{
 "cells": [
  {
   "cell_type": "code",
   "execution_count": 97,
   "metadata": {
    "id": "hhDowqa5Dn_l"
   },
   "outputs": [],
   "source": [
    "import numpy as np\n",
    "import pandas as pd\n",
    "import seaborn as sns\n",
    "import matplotlib.pyplot as plt\n",
    "import re\n",
    "import spacy\n",
    "import en_core_web_sm\n",
    "from nltk.stem import PorterStemmer\n",
    "from nltk.corpus import stopwords\n",
    "pd.set_option(\"display.max_columns\", 300)\n",
    "pd.set_option(\"display.max_rows\", 300)\n",
    "from sklearn.metrics import confusion_matrix, accuracy_score\n",
    "from sklearn.model_selection import GridSearchCV\n",
    "from sklearn.metrics import classification_report\n",
    "from sklearn.metrics import confusion_matrix, ConfusionMatrixDisplay\n"
   ]
  },
  {
   "cell_type": "code",
   "execution_count": 5,
   "metadata": {
    "colab": {
     "base_uri": "https://localhost:8080/"
    },
    "id": "EgrwGTAlDqCI",
    "outputId": "119f8115-f42a-48b6-9514-d11d5e3700a4"
   },
   "outputs": [
    {
     "name": "stdout",
     "output_type": "stream",
     "text": [
      "Mounted at /content/drive\n"
     ]
    }
   ],
   "source": [
    "from google.colab import drive\n",
    "drive.mount('/content/drive')"
   ]
  },
  {
   "cell_type": "code",
   "execution_count": 6,
   "metadata": {
    "id": "7gMago5YDn_m"
   },
   "outputs": [],
   "source": [
    "df=pd.read_csv(\"/content/drive/MyDrive/train (1).csv\",encoding='ISO-8859-1')"
   ]
  },
  {
   "cell_type": "code",
   "execution_count": 7,
   "metadata": {
    "colab": {
     "base_uri": "https://localhost:8080/",
     "height": 206
    },
    "id": "79iS79CxDn_n",
    "outputId": "f19dcaa9-67e4-449f-e831-09f036464ed9"
   },
   "outputs": [
    {
     "data": {
      "text/html": [
       "\n",
       "  <div id=\"df-6c03d8f1-ba7b-4f98-a51b-8728b25f0227\">\n",
       "    <div class=\"colab-df-container\">\n",
       "      <div>\n",
       "<style scoped>\n",
       "    .dataframe tbody tr th:only-of-type {\n",
       "        vertical-align: middle;\n",
       "    }\n",
       "\n",
       "    .dataframe tbody tr th {\n",
       "        vertical-align: top;\n",
       "    }\n",
       "\n",
       "    .dataframe thead th {\n",
       "        text-align: right;\n",
       "    }\n",
       "</style>\n",
       "<table border=\"1\" class=\"dataframe\">\n",
       "  <thead>\n",
       "    <tr style=\"text-align: right;\">\n",
       "      <th></th>\n",
       "      <th>id</th>\n",
       "      <th>keyword</th>\n",
       "      <th>location</th>\n",
       "      <th>text</th>\n",
       "      <th>target</th>\n",
       "    </tr>\n",
       "  </thead>\n",
       "  <tbody>\n",
       "    <tr>\n",
       "      <th>0</th>\n",
       "      <td>1</td>\n",
       "      <td>NaN</td>\n",
       "      <td>NaN</td>\n",
       "      <td>Our Deeds are the Reason of this #earthquake M...</td>\n",
       "      <td>1</td>\n",
       "    </tr>\n",
       "    <tr>\n",
       "      <th>1</th>\n",
       "      <td>4</td>\n",
       "      <td>NaN</td>\n",
       "      <td>NaN</td>\n",
       "      <td>Forest fire near La Ronge Sask. Canada</td>\n",
       "      <td>1</td>\n",
       "    </tr>\n",
       "    <tr>\n",
       "      <th>2</th>\n",
       "      <td>5</td>\n",
       "      <td>NaN</td>\n",
       "      <td>NaN</td>\n",
       "      <td>All residents asked to 'shelter in place' are ...</td>\n",
       "      <td>1</td>\n",
       "    </tr>\n",
       "    <tr>\n",
       "      <th>3</th>\n",
       "      <td>6</td>\n",
       "      <td>NaN</td>\n",
       "      <td>NaN</td>\n",
       "      <td>13,000 people receive #wildfires evacuation or...</td>\n",
       "      <td>1</td>\n",
       "    </tr>\n",
       "    <tr>\n",
       "      <th>4</th>\n",
       "      <td>7</td>\n",
       "      <td>NaN</td>\n",
       "      <td>NaN</td>\n",
       "      <td>Just got sent this photo from Ruby #Alaska as ...</td>\n",
       "      <td>1</td>\n",
       "    </tr>\n",
       "  </tbody>\n",
       "</table>\n",
       "</div>\n",
       "      <button class=\"colab-df-convert\" onclick=\"convertToInteractive('df-6c03d8f1-ba7b-4f98-a51b-8728b25f0227')\"\n",
       "              title=\"Convert this dataframe to an interactive table.\"\n",
       "              style=\"display:none;\">\n",
       "        \n",
       "  <svg xmlns=\"http://www.w3.org/2000/svg\" height=\"24px\"viewBox=\"0 0 24 24\"\n",
       "       width=\"24px\">\n",
       "    <path d=\"M0 0h24v24H0V0z\" fill=\"none\"/>\n",
       "    <path d=\"M18.56 5.44l.94 2.06.94-2.06 2.06-.94-2.06-.94-.94-2.06-.94 2.06-2.06.94zm-11 1L8.5 8.5l.94-2.06 2.06-.94-2.06-.94L8.5 2.5l-.94 2.06-2.06.94zm10 10l.94 2.06.94-2.06 2.06-.94-2.06-.94-.94-2.06-.94 2.06-2.06.94z\"/><path d=\"M17.41 7.96l-1.37-1.37c-.4-.4-.92-.59-1.43-.59-.52 0-1.04.2-1.43.59L10.3 9.45l-7.72 7.72c-.78.78-.78 2.05 0 2.83L4 21.41c.39.39.9.59 1.41.59.51 0 1.02-.2 1.41-.59l7.78-7.78 2.81-2.81c.8-.78.8-2.07 0-2.86zM5.41 20L4 18.59l7.72-7.72 1.47 1.35L5.41 20z\"/>\n",
       "  </svg>\n",
       "      </button>\n",
       "      \n",
       "  <style>\n",
       "    .colab-df-container {\n",
       "      display:flex;\n",
       "      flex-wrap:wrap;\n",
       "      gap: 12px;\n",
       "    }\n",
       "\n",
       "    .colab-df-convert {\n",
       "      background-color: #E8F0FE;\n",
       "      border: none;\n",
       "      border-radius: 50%;\n",
       "      cursor: pointer;\n",
       "      display: none;\n",
       "      fill: #1967D2;\n",
       "      height: 32px;\n",
       "      padding: 0 0 0 0;\n",
       "      width: 32px;\n",
       "    }\n",
       "\n",
       "    .colab-df-convert:hover {\n",
       "      background-color: #E2EBFA;\n",
       "      box-shadow: 0px 1px 2px rgba(60, 64, 67, 0.3), 0px 1px 3px 1px rgba(60, 64, 67, 0.15);\n",
       "      fill: #174EA6;\n",
       "    }\n",
       "\n",
       "    [theme=dark] .colab-df-convert {\n",
       "      background-color: #3B4455;\n",
       "      fill: #D2E3FC;\n",
       "    }\n",
       "\n",
       "    [theme=dark] .colab-df-convert:hover {\n",
       "      background-color: #434B5C;\n",
       "      box-shadow: 0px 1px 3px 1px rgba(0, 0, 0, 0.15);\n",
       "      filter: drop-shadow(0px 1px 2px rgba(0, 0, 0, 0.3));\n",
       "      fill: #FFFFFF;\n",
       "    }\n",
       "  </style>\n",
       "\n",
       "      <script>\n",
       "        const buttonEl =\n",
       "          document.querySelector('#df-6c03d8f1-ba7b-4f98-a51b-8728b25f0227 button.colab-df-convert');\n",
       "        buttonEl.style.display =\n",
       "          google.colab.kernel.accessAllowed ? 'block' : 'none';\n",
       "\n",
       "        async function convertToInteractive(key) {\n",
       "          const element = document.querySelector('#df-6c03d8f1-ba7b-4f98-a51b-8728b25f0227');\n",
       "          const dataTable =\n",
       "            await google.colab.kernel.invokeFunction('convertToInteractive',\n",
       "                                                     [key], {});\n",
       "          if (!dataTable) return;\n",
       "\n",
       "          const docLinkHtml = 'Like what you see? Visit the ' +\n",
       "            '<a target=\"_blank\" href=https://colab.research.google.com/notebooks/data_table.ipynb>data table notebook</a>'\n",
       "            + ' to learn more about interactive tables.';\n",
       "          element.innerHTML = '';\n",
       "          dataTable['output_type'] = 'display_data';\n",
       "          await google.colab.output.renderOutput(dataTable, element);\n",
       "          const docLink = document.createElement('div');\n",
       "          docLink.innerHTML = docLinkHtml;\n",
       "          element.appendChild(docLink);\n",
       "        }\n",
       "      </script>\n",
       "    </div>\n",
       "  </div>\n",
       "  "
      ],
      "text/plain": [
       "   id keyword location                                               text  \\\n",
       "0   1     NaN      NaN  Our Deeds are the Reason of this #earthquake M...   \n",
       "1   4     NaN      NaN             Forest fire near La Ronge Sask. Canada   \n",
       "2   5     NaN      NaN  All residents asked to 'shelter in place' are ...   \n",
       "3   6     NaN      NaN  13,000 people receive #wildfires evacuation or...   \n",
       "4   7     NaN      NaN  Just got sent this photo from Ruby #Alaska as ...   \n",
       "\n",
       "   target  \n",
       "0       1  \n",
       "1       1  \n",
       "2       1  \n",
       "3       1  \n",
       "4       1  "
      ]
     },
     "execution_count": 7,
     "metadata": {},
     "output_type": "execute_result"
    }
   ],
   "source": [
    "df.head()"
   ]
  },
  {
   "cell_type": "code",
   "execution_count": 8,
   "metadata": {
    "colab": {
     "base_uri": "https://localhost:8080/"
    },
    "id": "lxtm0efaDn_n",
    "outputId": "96404629-0399-4601-fba3-eafa72cf2c29"
   },
   "outputs": [
    {
     "data": {
      "text/plain": [
       "(7613, 5)"
      ]
     },
     "execution_count": 8,
     "metadata": {},
     "output_type": "execute_result"
    }
   ],
   "source": [
    "df.shape"
   ]
  },
  {
   "cell_type": "code",
   "execution_count": 9,
   "metadata": {
    "colab": {
     "base_uri": "https://localhost:8080/"
    },
    "id": "B6vsQKKBDn_o",
    "outputId": "e5a8c882-8315-46ab-f0cd-7f9e57fcc916"
   },
   "outputs": [
    {
     "data": {
      "text/plain": [
       "id             0\n",
       "keyword       61\n",
       "location    2533\n",
       "text           0\n",
       "target         0\n",
       "dtype: int64"
      ]
     },
     "execution_count": 9,
     "metadata": {},
     "output_type": "execute_result"
    }
   ],
   "source": [
    "df.isnull().sum()"
   ]
  },
  {
   "cell_type": "code",
   "execution_count": 10,
   "metadata": {
    "colab": {
     "base_uri": "https://localhost:8080/"
    },
    "id": "xc4c0GBWDn_o",
    "outputId": "e2565913-8e19-4dc9-a802-e36f3afd5229"
   },
   "outputs": [
    {
     "name": "stdout",
     "output_type": "stream",
     "text": [
      "<class 'pandas.core.frame.DataFrame'>\n",
      "RangeIndex: 7613 entries, 0 to 7612\n",
      "Data columns (total 5 columns):\n",
      " #   Column    Non-Null Count  Dtype \n",
      "---  ------    --------------  ----- \n",
      " 0   id        7613 non-null   int64 \n",
      " 1   keyword   7552 non-null   object\n",
      " 2   location  5080 non-null   object\n",
      " 3   text      7613 non-null   object\n",
      " 4   target    7613 non-null   int64 \n",
      "dtypes: int64(2), object(3)\n",
      "memory usage: 297.5+ KB\n"
     ]
    }
   ],
   "source": [
    "df.info()"
   ]
  },
  {
   "cell_type": "markdown",
   "metadata": {
    "id": "54Tlnmw-Dn_o"
   },
   "source": [
    "### Preprocessing the text"
   ]
  },
  {
   "cell_type": "code",
   "execution_count": 11,
   "metadata": {
    "id": "SNUxmrBUDn_p"
   },
   "outputs": [],
   "source": [
    "# removing https tags"
   ]
  },
  {
   "cell_type": "code",
   "execution_count": 12,
   "metadata": {
    "id": "2ffnnGI3Dn_p"
   },
   "outputs": [],
   "source": [
    "df['processed_tweet']=df['text'].apply(lambda x:re.sub(r'https?:\\/\\/.*[\\r\\n]*', '', x, flags=re.MULTILINE))"
   ]
  },
  {
   "cell_type": "code",
   "execution_count": 13,
   "metadata": {
    "colab": {
     "base_uri": "https://localhost:8080/",
     "height": 35
    },
    "id": "aWjTzAnzDn_q",
    "outputId": "ccb8de03-a3a1-40e9-84d3-4b03d1d1de75"
   },
   "outputs": [
    {
     "data": {
      "application/vnd.google.colaboratory.intrinsic+json": {
       "type": "string"
      },
      "text/plain": [
       "'Our Deeds are the Reason of this #earthquake May ALLAH Forgive us all'"
      ]
     },
     "execution_count": 13,
     "metadata": {},
     "output_type": "execute_result"
    }
   ],
   "source": [
    "df['processed_tweet'][0]"
   ]
  },
  {
   "cell_type": "code",
   "execution_count": 14,
   "metadata": {
    "id": "gzQkuDt3Dn_q"
   },
   "outputs": [],
   "source": [
    "#removing hashtags"
   ]
  },
  {
   "cell_type": "code",
   "execution_count": 15,
   "metadata": {
    "id": "GH77J9cIDn_q"
   },
   "outputs": [],
   "source": [
    "df['hastag']=df['processed_tweet'].apply(lambda x:re.findall(r'#\\S+', x))"
   ]
  },
  {
   "cell_type": "code",
   "execution_count": 16,
   "metadata": {
    "colab": {
     "base_uri": "https://localhost:8080/"
    },
    "id": "7NJqceyCDn_q",
    "outputId": "f707c7a6-6666-4dfc-8334-b89e4e436fcb"
   },
   "outputs": [
    {
     "data": {
      "text/plain": [
       "0    Our Deeds are the Reason of this #earthquake M...\n",
       "1               Forest fire near La Ronge Sask. Canada\n",
       "2    All residents asked to 'shelter in place' are ...\n",
       "3    13,000 people receive #wildfires evacuation or...\n",
       "4    Just got sent this photo from Ruby #Alaska as ...\n",
       "Name: processed_tweet, dtype: object"
      ]
     },
     "execution_count": 16,
     "metadata": {},
     "output_type": "execute_result"
    }
   ],
   "source": [
    "df['processed_tweet'].head()"
   ]
  },
  {
   "cell_type": "code",
   "execution_count": 17,
   "metadata": {
    "id": "BaZK1PhXDn_q"
   },
   "outputs": [],
   "source": [
    "df['hastag']=df['hastag'].apply(lambda x:x[1:])"
   ]
  },
  {
   "cell_type": "code",
   "execution_count": 18,
   "metadata": {
    "id": "2Wpk_Iu9Dn_q"
   },
   "outputs": [],
   "source": [
    "#removing usernames"
   ]
  },
  {
   "cell_type": "code",
   "execution_count": 19,
   "metadata": {
    "id": "CTk9SlrRDn_r"
   },
   "outputs": [],
   "source": [
    "df['processed_tweet']=df['processed_tweet'].apply(lambda x:re.sub(r'@\\S+', '', x))"
   ]
  },
  {
   "cell_type": "code",
   "execution_count": 20,
   "metadata": {
    "id": "lsiDKaa9Dn_r"
   },
   "outputs": [],
   "source": [
    "#removing punctuations"
   ]
  },
  {
   "cell_type": "code",
   "execution_count": 21,
   "metadata": {
    "id": "qfMC5i96Dn_r"
   },
   "outputs": [],
   "source": [
    "def remove_punctuations(df):\n",
    "    data=df['processed_tweet']\n",
    "    \n",
    "    symbols = \"!\\\"#$%&()*+-.',/:;<=>?@[\\]^_`{|}~\\n\"\n",
    "    for i in symbols:\n",
    "        data = np.char.replace(data, i, '')\n",
    "    return data"
   ]
  },
  {
   "cell_type": "code",
   "execution_count": 22,
   "metadata": {
    "id": "LM2C9e8sDn_r"
   },
   "outputs": [],
   "source": [
    "df['processed_tweet']=df.apply(remove_punctuations,axis=1)"
   ]
  },
  {
   "cell_type": "code",
   "execution_count": 23,
   "metadata": {
    "colab": {
     "base_uri": "https://localhost:8080/"
    },
    "id": "euBPbOm-Dn_r",
    "outputId": "ac514a96-4e44-4602-eb50-ac3907c91f26"
   },
   "outputs": [
    {
     "data": {
      "text/plain": [
       "array('Our Deeds are the Reason of this earthquake May ALLAH Forgive us all',\n",
       "      dtype='<U68')"
      ]
     },
     "execution_count": 23,
     "metadata": {},
     "output_type": "execute_result"
    }
   ],
   "source": [
    "df['processed_tweet'][0]"
   ]
  },
  {
   "cell_type": "code",
   "execution_count": 24,
   "metadata": {
    "id": "EXwTQR9zDn_s"
   },
   "outputs": [],
   "source": [
    "#converting to lower case"
   ]
  },
  {
   "cell_type": "code",
   "execution_count": 25,
   "metadata": {
    "id": "a2wcCLC6Dn_s"
   },
   "outputs": [],
   "source": [
    "df['processed_tweet']=df['processed_tweet'].apply(lambda x:str(x).lower())"
   ]
  },
  {
   "cell_type": "code",
   "execution_count": 206,
   "metadata": {
    "colab": {
     "base_uri": "https://localhost:8080/"
    },
    "id": "DqZHG1iGDn_s",
    "outputId": "e76de362-3076-46d7-fc60-b09af8141260"
   },
   "outputs": [
    {
     "data": {
      "text/plain": [
       "0                 reason earthquak may forgiv\n",
       "1                     forest fire near canada\n",
       "2    shelter place notifi evacu shelter place\n",
       "3                          peopl receiv evacu\n",
       "4            got send photo rubi smoke school\n",
       "Name: processed_tweet, dtype: object"
      ]
     },
     "execution_count": 206,
     "metadata": {},
     "output_type": "execute_result"
    }
   ],
   "source": [
    "df['processed_tweet'][0:5]"
   ]
  },
  {
   "cell_type": "code",
   "execution_count": 27,
   "metadata": {
    "id": "yeGHRfo1Dn_s"
   },
   "outputs": [],
   "source": [
    "#removing the numbers"
   ]
  },
  {
   "cell_type": "code",
   "execution_count": 28,
   "metadata": {
    "id": "U5fxfPzgDn_t"
   },
   "outputs": [],
   "source": [
    "df['processed_tweet']=df['processed_tweet'].apply(lambda x:' '.join([ re.sub(r'[0-9]+', '', item)  for item in x.split() ]))"
   ]
  },
  {
   "cell_type": "code",
   "execution_count": 29,
   "metadata": {
    "id": "1_HgJUkVDn_t"
   },
   "outputs": [],
   "source": [
    "df['processed_tweet']=df['processed_tweet'].apply(lambda x:' '.join([ item.replace(r'¼', 'l')  for item in x.split() ]))"
   ]
  },
  {
   "cell_type": "markdown",
   "metadata": {
    "id": "b6YNZeqnDn_t"
   },
   "source": [
    "df['processed_tweet']=df['processed_tweet'].apply(lambda x:' '.join([ re.sub(r'ã¼+', 'al', item)  for item in x.split() ]))\n",
    "\n"
   ]
  },
  {
   "cell_type": "code",
   "execution_count": 30,
   "metadata": {
    "id": "I4WLOxZbDn_t"
   },
   "outputs": [],
   "source": [
    "df['processed_tweet']=df['processed_tweet'].apply(lambda x:' '.join([ item.replace(r'ã', 'a')  for item in x.split() ]))"
   ]
  },
  {
   "cell_type": "code",
   "execution_count": 31,
   "metadata": {
    "id": "EuvyyKRwDn_t"
   },
   "outputs": [],
   "source": [
    "df['processed_tweet']=df['processed_tweet'].apply(lambda x:' '.join([ item.replace(r'â', 'a')  for item in x.split() ]))"
   ]
  },
  {
   "cell_type": "code",
   "execution_count": 32,
   "metadata": {
    "id": "AfyvAvgFDn_u"
   },
   "outputs": [],
   "source": [
    "#removing the stop words"
   ]
  },
  {
   "cell_type": "code",
   "execution_count": 33,
   "metadata": {
    "colab": {
     "base_uri": "https://localhost:8080/"
    },
    "id": "gQ7N1X49EO-2",
    "outputId": "bffe8b47-279a-4b46-fc35-4fbc2dbe9918"
   },
   "outputs": [
    {
     "name": "stderr",
     "output_type": "stream",
     "text": [
      "[nltk_data] Downloading package stopwords to /root/nltk_data...\n",
      "[nltk_data]   Unzipping corpora/stopwords.zip.\n"
     ]
    },
    {
     "data": {
      "text/plain": [
       "True"
      ]
     },
     "execution_count": 33,
     "metadata": {},
     "output_type": "execute_result"
    }
   ],
   "source": [
    "import nltk\n",
    "nltk.download('stopwords')"
   ]
  },
  {
   "cell_type": "code",
   "execution_count": 34,
   "metadata": {
    "id": "tC-SQ7wCDn_u"
   },
   "outputs": [],
   "source": [
    "stop = stopwords.words('english')\n",
    "df['processed_tweet']=df['processed_tweet'].apply(lambda x: ' '.join([item for item in x.split() if item not in stop]))"
   ]
  },
  {
   "cell_type": "code",
   "execution_count": 35,
   "metadata": {
    "colab": {
     "base_uri": "https://localhost:8080/"
    },
    "id": "i0o7mkrUDn_u",
    "outputId": "ed3ce0b8-82b8-404e-d06d-bd63ad5c0dcd"
   },
   "outputs": [
    {
     "data": {
      "text/plain": [
       "0          deeds reason earthquake may allah forgive us\n",
       "1                 forest fire near la ronge sask canada\n",
       "2     residents asked shelter place notified officer...\n",
       "3     people receive wildfires evacuation orders cal...\n",
       "4     got sent photo ruby alaska smoke wildfires pou...\n",
       "5     rockyfire update california hwy closed directi...\n",
       "6     flood disaster heavy rain causes flash floodin...\n",
       "7                            im top hill see fire woods\n",
       "8     theres emergency evacuation happening building...\n",
       "9                         im afraid tornado coming area\n",
       "10                      three people died heat wave far\n",
       "11    haha south tampa getting flooded hah wait seco...\n",
       "12    raining flooding florida tampabay tampa days i...\n",
       "13                      flood bago myanmar arrived bago\n",
       "14           damage school bus multi car crash breaking\n",
       "15                                            whats man\n",
       "16                                          love fruits\n",
       "17                                        summer lovely\n",
       "18                                             car fast\n",
       "Name: processed_tweet, dtype: object"
      ]
     },
     "execution_count": 35,
     "metadata": {},
     "output_type": "execute_result"
    }
   ],
   "source": [
    "df['processed_tweet'][0:19]"
   ]
  },
  {
   "cell_type": "code",
   "execution_count": 37,
   "metadata": {
    "id": "_HQD9H-RDn_u"
   },
   "outputs": [],
   "source": [
    "df['processed_tweet']=df['processed_tweet'].apply(lambda x:str(x).strip())"
   ]
  },
  {
   "cell_type": "markdown",
   "metadata": {
    "id": "YGcbkhesmxWU"
   },
   "source": [
    "# removing non english words"
   ]
  },
  {
   "cell_type": "code",
   "execution_count": 36,
   "metadata": {
    "colab": {
     "base_uri": "https://localhost:8080/"
    },
    "id": "1-b8BK5qDn_u",
    "outputId": "68d8291f-52de-4434-d5a1-16d7a72a324a"
   },
   "outputs": [
    {
     "name": "stderr",
     "output_type": "stream",
     "text": [
      "[nltk_data] Downloading package words to /root/nltk_data...\n",
      "[nltk_data]   Unzipping corpora/words.zip.\n"
     ]
    },
    {
     "data": {
      "text/plain": [
       "True"
      ]
     },
     "execution_count": 36,
     "metadata": {},
     "output_type": "execute_result"
    }
   ],
   "source": [
    "import nltk\n",
    "nltk.download('words')"
   ]
  },
  {
   "cell_type": "code",
   "execution_count": 38,
   "metadata": {
    "id": "0-q8mw2_Dn_u"
   },
   "outputs": [],
   "source": [
    "def non_eng_words(df):\n",
    "    sent=df['processed_tweet']\n",
    "    words = set(nltk.corpus.words.words())\n",
    "    sent = \" \".join(w for w in nltk.wordpunct_tokenize(sent) if w.lower() in words or not w.isalpha())\n",
    "    return sent"
   ]
  },
  {
   "cell_type": "code",
   "execution_count": 39,
   "metadata": {
    "id": "9obIVh1LDn_v"
   },
   "outputs": [],
   "source": [
    "df['processed_tweet']=df.apply(non_eng_words,axis=1)"
   ]
  },
  {
   "cell_type": "code",
   "execution_count": 40,
   "metadata": {
    "colab": {
     "base_uri": "https://localhost:8080/"
    },
    "id": "O1SLLUPmDn_v",
    "outputId": "f2fc7710-7812-4aea-f47f-1e4732dc2ed7"
   },
   "outputs": [
    {
     "data": {
      "text/plain": [
       "0                      reason earthquake may forgive us\n",
       "1                            forest fire near la canada\n",
       "2       shelter place notified evacuation shelter place\n",
       "3                             people receive evacuation\n",
       "4                      got sent photo ruby smoke school\n",
       "5                    update closed due lake county fire\n",
       "6     flood disaster heavy rain flash flooding stree...\n",
       "7                                     top hill see fire\n",
       "8     theres emergency evacuation happening building...\n",
       "9                            afraid tornado coming area\n",
       "10                           three people heat wave far\n",
       "11    south getting flooded hah wait second live sou...\n",
       "12                             flooding days lost count\n",
       "13                                      flood bago bago\n",
       "14                 damage school bus car crash breaking\n",
       "15                                            whats man\n",
       "16                                                 love\n",
       "17                                        summer lovely\n",
       "18                                             car fast\n",
       "Name: processed_tweet, dtype: object"
      ]
     },
     "execution_count": 40,
     "metadata": {},
     "output_type": "execute_result"
    }
   ],
   "source": [
    "df['processed_tweet'].head(19)"
   ]
  },
  {
   "cell_type": "code",
   "execution_count": 42,
   "metadata": {
    "id": "xghv9VdmDn_v"
   },
   "outputs": [],
   "source": [
    "#Lammentation"
   ]
  },
  {
   "cell_type": "code",
   "execution_count": 41,
   "metadata": {
    "id": "0w2pcMB3Dn_v"
   },
   "outputs": [],
   "source": [
    "stemmer = PorterStemmer()\n",
    "spacy_nlp_en = spacy.load('en_core_web_sm')"
   ]
  },
  {
   "cell_type": "code",
   "execution_count": 43,
   "metadata": {
    "id": "U8NAaTOXDn_v"
   },
   "outputs": [],
   "source": [
    "df['processed_tweet']=df['processed_tweet'].apply(lambda x:' '.join([word.lemma_ for word in spacy_nlp_en(x)]))"
   ]
  },
  {
   "cell_type": "code",
   "execution_count": 44,
   "metadata": {
    "id": "qHUZja0PDn_v"
   },
   "outputs": [],
   "source": [
    "df['processed_tweet']=df['processed_tweet'].apply(lambda x: x.split())"
   ]
  },
  {
   "cell_type": "code",
   "execution_count": 45,
   "metadata": {
    "id": "WTJlvSG-Dn_v"
   },
   "outputs": [],
   "source": [
    "df['processed_tweet']=df['processed_tweet'].apply(lambda x: [stemmer.stem(i) for i in x])"
   ]
  },
  {
   "cell_type": "code",
   "execution_count": 46,
   "metadata": {
    "id": "hmmnYkyZDn_v"
   },
   "outputs": [],
   "source": [
    "#stemming"
   ]
  },
  {
   "cell_type": "code",
   "execution_count": 47,
   "metadata": {
    "id": "bwfsRnUEDn_w"
   },
   "outputs": [],
   "source": [
    "# removing the words that has word length less than =2"
   ]
  },
  {
   "cell_type": "code",
   "execution_count": 48,
   "metadata": {
    "id": "O4Iq1Ai6Dn_w"
   },
   "outputs": [],
   "source": [
    "df['processed_tweet']=df['processed_tweet'].apply(lambda x: ' '.join([item for item in x if len(item)>2]))\n",
    "\n"
   ]
  },
  {
   "cell_type": "code",
   "execution_count": 49,
   "metadata": {
    "colab": {
     "base_uri": "https://localhost:8080/"
    },
    "id": "hBPrlzE3Dn_w",
    "outputId": "81f58a0f-d4ed-4d20-9b50-92f9df0a9ebc"
   },
   "outputs": [
    {
     "data": {
      "text/plain": [
       "0                 reason earthquak may forgiv\n",
       "1                     forest fire near canada\n",
       "2    shelter place notifi evacu shelter place\n",
       "3                          peopl receiv evacu\n",
       "4            got send photo rubi smoke school\n",
       "Name: processed_tweet, dtype: object"
      ]
     },
     "execution_count": 49,
     "metadata": {},
     "output_type": "execute_result"
    }
   ],
   "source": [
    "df['processed_tweet'].head()\n"
   ]
  },
  {
   "cell_type": "markdown",
   "metadata": {
    "id": "_fGrU2-yDn_w"
   },
   "source": [
    "import nltk\n",
    "nltk.download('words')\n"
   ]
  },
  {
   "cell_type": "code",
   "execution_count": 53,
   "metadata": {
    "id": "WkdfbOF_Dn_x"
   },
   "outputs": [],
   "source": [
    "df['hastag']=df['hastag'].apply(lambda x : str(x))\n"
   ]
  },
  {
   "cell_type": "code",
   "execution_count": null,
   "metadata": {
    "colab": {
     "base_uri": "https://localhost:8080/",
     "height": 35
    },
    "id": "7cD_wYDeDn_x",
    "outputId": "b098f812-6b25-4794-e37c-df7575519cc3"
   },
   "outputs": [
    {
     "data": {
      "application/vnd.google.colaboratory.intrinsic+json": {
       "type": "string"
      },
      "text/plain": [
       "'like'"
      ]
     },
     "execution_count": 47,
     "metadata": {},
     "output_type": "execute_result"
    }
   ],
   "source": [
    "df['processed_tweet'][29]"
   ]
  },
  {
   "cell_type": "markdown",
   "metadata": {
    "id": "2UISmbz8Dn_x"
   },
   "source": [
    "### EDA"
   ]
  },
  {
   "cell_type": "code",
   "execution_count": 50,
   "metadata": {
    "colab": {
     "base_uri": "https://localhost:8080/",
     "height": 297
    },
    "id": "tS7ffi8OWigk",
    "outputId": "12930bb1-8bf1-4e66-9829-0ba4b8c9c727"
   },
   "outputs": [
    {
     "data": {
      "text/plain": [
       "<matplotlib.axes._subplots.AxesSubplot at 0x7f31edd19cd0>"
      ]
     },
     "execution_count": 50,
     "metadata": {},
     "output_type": "execute_result"
    },
    {
     "data": {
      "image/png": "[encoded data removed]",
      "text/plain": [
       "<Figure size 432x288 with 1 Axes>"
      ]
     },
     "metadata": {
      "needs_background": "light"
     },
     "output_type": "display_data"
    }
   ],
   "source": [
    "sns.countplot(data=df,x='target',hue='target')"
   ]
  },
  {
   "cell_type": "code",
   "execution_count": 54,
   "metadata": {
    "colab": {
     "base_uri": "https://localhost:8080/",
     "height": 233
    },
    "id": "9qv-VB3sDn_x",
    "outputId": "b021db57-0dce-4e72-9185-095a4efdc621"
   },
   "outputs": [
    {
     "data": {
      "image/png": "[encoded data removed]",
      "text/plain": [
       "<Figure size 1152x648 with 3 Axes>"
      ]
     },
     "metadata": {
      "needs_background": "light"
     },
     "output_type": "display_data"
    }
   ],
   "source": [
    "import matplotlib.pyplot as plt\n",
    "from wordcloud import WordCloud\n",
    "\n",
    "keyword_words = str(df['keyword']\n",
    "    .dropna()\n",
    "    .unique()\n",
    "    .tolist()\n",
    ")\n",
    "\n",
    "location_words = str(df['location']\n",
    "    .dropna()\n",
    "    .unique()\n",
    "    .tolist()\n",
    ")\n",
    "\n",
    "hashtag_words = str(df['hastag']\n",
    "    .dropna()\n",
    "    .unique()\n",
    "    .tolist()\n",
    ")\n",
    "\n",
    "keyword_wordcloud = WordCloud(\n",
    "    background_color='black',\n",
    "    stopwords=None,\n",
    "    max_words=200,\n",
    "    max_font_size=40, \n",
    "    random_state=42\n",
    ").generate(keyword_words)\n",
    "\n",
    "location_wordcloud = WordCloud(\n",
    "    background_color='black',\n",
    "    stopwords=None,\n",
    "    max_words=200,\n",
    "    max_font_size=40, \n",
    "    random_state=42\n",
    ").generate(location_words)\n",
    "\n",
    "hashtag_wordcloud = WordCloud(\n",
    "    background_color='black',\n",
    "    stopwords=None,\n",
    "    max_words=200,\n",
    "    max_font_size=40, \n",
    "    random_state=42\n",
    ").generate(hashtag_words)\n",
    "\n",
    "fig, ax = plt.subplots(1,3, figsize=(16,9), constrained_layout=True)\n",
    "ax[0].set_title(\"Keywords\")\n",
    "ax[0].imshow(keyword_wordcloud)\n",
    "ax[0].axis(False)\n",
    "ax[1].set_title('Location')\n",
    "ax[1].imshow(location_wordcloud)\n",
    "ax[1].axis(False)\n",
    "ax[2].set_title('Hashtags')\n",
    "ax[2].imshow(hashtag_wordcloud)\n",
    "ax[2].axis(False)\n",
    "plt.show()\n"
   ]
  },
  {
   "cell_type": "code",
   "execution_count": 55,
   "metadata": {
    "colab": {
     "base_uri": "https://localhost:8080/",
     "height": 206
    },
    "id": "XnyQEcqDTpVM",
    "outputId": "af6dde25-1d6e-4bf0-9170-af8b2d152e1c"
   },
   "outputs": [
    {
     "data": {
      "text/html": [
       "\n",
       "  <div id=\"df-ba3629cf-fb9c-4bd4-89f3-4f72d8148dd1\">\n",
       "    <div class=\"colab-df-container\">\n",
       "      <div>\n",
       "<style scoped>\n",
       "    .dataframe tbody tr th:only-of-type {\n",
       "        vertical-align: middle;\n",
       "    }\n",
       "\n",
       "    .dataframe tbody tr th {\n",
       "        vertical-align: top;\n",
       "    }\n",
       "\n",
       "    .dataframe thead th {\n",
       "        text-align: right;\n",
       "    }\n",
       "</style>\n",
       "<table border=\"1\" class=\"dataframe\">\n",
       "  <thead>\n",
       "    <tr style=\"text-align: right;\">\n",
       "      <th></th>\n",
       "      <th>id</th>\n",
       "      <th>keyword</th>\n",
       "      <th>location</th>\n",
       "      <th>text</th>\n",
       "      <th>target</th>\n",
       "      <th>processed_tweet</th>\n",
       "      <th>hastag</th>\n",
       "      <th>text length</th>\n",
       "    </tr>\n",
       "  </thead>\n",
       "  <tbody>\n",
       "    <tr>\n",
       "      <th>0</th>\n",
       "      <td>1</td>\n",
       "      <td>NaN</td>\n",
       "      <td>NaN</td>\n",
       "      <td>Our Deeds are the Reason of this #earthquake M...</td>\n",
       "      <td>1</td>\n",
       "      <td>reason earthquak may forgiv</td>\n",
       "      <td>[]</td>\n",
       "      <td>27</td>\n",
       "    </tr>\n",
       "    <tr>\n",
       "      <th>1</th>\n",
       "      <td>4</td>\n",
       "      <td>NaN</td>\n",
       "      <td>NaN</td>\n",
       "      <td>Forest fire near La Ronge Sask. Canada</td>\n",
       "      <td>1</td>\n",
       "      <td>forest fire near canada</td>\n",
       "      <td>[]</td>\n",
       "      <td>23</td>\n",
       "    </tr>\n",
       "    <tr>\n",
       "      <th>2</th>\n",
       "      <td>5</td>\n",
       "      <td>NaN</td>\n",
       "      <td>NaN</td>\n",
       "      <td>All residents asked to 'shelter in place' are ...</td>\n",
       "      <td>1</td>\n",
       "      <td>shelter place notifi evacu shelter place</td>\n",
       "      <td>[]</td>\n",
       "      <td>40</td>\n",
       "    </tr>\n",
       "    <tr>\n",
       "      <th>3</th>\n",
       "      <td>6</td>\n",
       "      <td>NaN</td>\n",
       "      <td>NaN</td>\n",
       "      <td>13,000 people receive #wildfires evacuation or...</td>\n",
       "      <td>1</td>\n",
       "      <td>peopl receiv evacu</td>\n",
       "      <td>[]</td>\n",
       "      <td>18</td>\n",
       "    </tr>\n",
       "    <tr>\n",
       "      <th>4</th>\n",
       "      <td>7</td>\n",
       "      <td>NaN</td>\n",
       "      <td>NaN</td>\n",
       "      <td>Just got sent this photo from Ruby #Alaska as ...</td>\n",
       "      <td>1</td>\n",
       "      <td>got send photo rubi smoke school</td>\n",
       "      <td>['#wildfires']</td>\n",
       "      <td>32</td>\n",
       "    </tr>\n",
       "  </tbody>\n",
       "</table>\n",
       "</div>\n",
       "      <button class=\"colab-df-convert\" onclick=\"convertToInteractive('df-ba3629cf-fb9c-4bd4-89f3-4f72d8148dd1')\"\n",
       "              title=\"Convert this dataframe to an interactive table.\"\n",
       "              style=\"display:none;\">\n",
       "        \n",
       "  <svg xmlns=\"http://www.w3.org/2000/svg\" height=\"24px\"viewBox=\"0 0 24 24\"\n",
       "       width=\"24px\">\n",
       "    <path d=\"M0 0h24v24H0V0z\" fill=\"none\"/>\n",
       "    <path d=\"M18.56 5.44l.94 2.06.94-2.06 2.06-.94-2.06-.94-.94-2.06-.94 2.06-2.06.94zm-11 1L8.5 8.5l.94-2.06 2.06-.94-2.06-.94L8.5 2.5l-.94 2.06-2.06.94zm10 10l.94 2.06.94-2.06 2.06-.94-2.06-.94-.94-2.06-.94 2.06-2.06.94z\"/><path d=\"M17.41 7.96l-1.37-1.37c-.4-.4-.92-.59-1.43-.59-.52 0-1.04.2-1.43.59L10.3 9.45l-7.72 7.72c-.78.78-.78 2.05 0 2.83L4 21.41c.39.39.9.59 1.41.59.51 0 1.02-.2 1.41-.59l7.78-7.78 2.81-2.81c.8-.78.8-2.07 0-2.86zM5.41 20L4 18.59l7.72-7.72 1.47 1.35L5.41 20z\"/>\n",
       "  </svg>\n",
       "      </button>\n",
       "      \n",
       "  <style>\n",
       "    .colab-df-container {\n",
       "      display:flex;\n",
       "      flex-wrap:wrap;\n",
       "      gap: 12px;\n",
       "    }\n",
       "\n",
       "    .colab-df-convert {\n",
       "      background-color: #E8F0FE;\n",
       "      border: none;\n",
       "      border-radius: 50%;\n",
       "      cursor: pointer;\n",
       "      display: none;\n",
       "      fill: #1967D2;\n",
       "      height: 32px;\n",
       "      padding: 0 0 0 0;\n",
       "      width: 32px;\n",
       "    }\n",
       "\n",
       "    .colab-df-convert:hover {\n",
       "      background-color: #E2EBFA;\n",
       "      box-shadow: 0px 1px 2px rgba(60, 64, 67, 0.3), 0px 1px 3px 1px rgba(60, 64, 67, 0.15);\n",
       "      fill: #174EA6;\n",
       "    }\n",
       "\n",
       "    [theme=dark] .colab-df-convert {\n",
       "      background-color: #3B4455;\n",
       "      fill: #D2E3FC;\n",
       "    }\n",
       "\n",
       "    [theme=dark] .colab-df-convert:hover {\n",
       "      background-color: #434B5C;\n",
       "      box-shadow: 0px 1px 3px 1px rgba(0, 0, 0, 0.15);\n",
       "      filter: drop-shadow(0px 1px 2px rgba(0, 0, 0, 0.3));\n",
       "      fill: #FFFFFF;\n",
       "    }\n",
       "  </style>\n",
       "\n",
       "      <script>\n",
       "        const buttonEl =\n",
       "          document.querySelector('#df-ba3629cf-fb9c-4bd4-89f3-4f72d8148dd1 button.colab-df-convert');\n",
       "        buttonEl.style.display =\n",
       "          google.colab.kernel.accessAllowed ? 'block' : 'none';\n",
       "\n",
       "        async function convertToInteractive(key) {\n",
       "          const element = document.querySelector('#df-ba3629cf-fb9c-4bd4-89f3-4f72d8148dd1');\n",
       "          const dataTable =\n",
       "            await google.colab.kernel.invokeFunction('convertToInteractive',\n",
       "                                                     [key], {});\n",
       "          if (!dataTable) return;\n",
       "\n",
       "          const docLinkHtml = 'Like what you see? Visit the ' +\n",
       "            '<a target=\"_blank\" href=https://colab.research.google.com/notebooks/data_table.ipynb>data table notebook</a>'\n",
       "            + ' to learn more about interactive tables.';\n",
       "          element.innerHTML = '';\n",
       "          dataTable['output_type'] = 'display_data';\n",
       "          await google.colab.output.renderOutput(dataTable, element);\n",
       "          const docLink = document.createElement('div');\n",
       "          docLink.innerHTML = docLinkHtml;\n",
       "          element.appendChild(docLink);\n",
       "        }\n",
       "      </script>\n",
       "    </div>\n",
       "  </div>\n",
       "  "
      ],
      "text/plain": [
       "   id keyword location                                               text  \\\n",
       "0   1     NaN      NaN  Our Deeds are the Reason of this #earthquake M...   \n",
       "1   4     NaN      NaN             Forest fire near La Ronge Sask. Canada   \n",
       "2   5     NaN      NaN  All residents asked to 'shelter in place' are ...   \n",
       "3   6     NaN      NaN  13,000 people receive #wildfires evacuation or...   \n",
       "4   7     NaN      NaN  Just got sent this photo from Ruby #Alaska as ...   \n",
       "\n",
       "   target                           processed_tweet          hastag  \\\n",
       "0       1               reason earthquak may forgiv              []   \n",
       "1       1                   forest fire near canada              []   \n",
       "2       1  shelter place notifi evacu shelter place              []   \n",
       "3       1                        peopl receiv evacu              []   \n",
       "4       1          got send photo rubi smoke school  ['#wildfires']   \n",
       "\n",
       "   text length  \n",
       "0           27  \n",
       "1           23  \n",
       "2           40  \n",
       "3           18  \n",
       "4           32  "
      ]
     },
     "execution_count": 55,
     "metadata": {},
     "output_type": "execute_result"
    }
   ],
   "source": [
    "df['text length'] = df['processed_tweet'].str.len()\n",
    "df['text length'] = df['processed_tweet'].str.len()\n",
    "df.head()"
   ]
  },
  {
   "cell_type": "code",
   "execution_count": null,
   "metadata": {
    "id": "PuMNkOprVxNX"
   },
   "outputs": [],
   "source": []
  },
  {
   "cell_type": "code",
   "execution_count": 56,
   "metadata": {
    "colab": {
     "base_uri": "https://localhost:8080/",
     "height": 297
    },
    "id": "1zLUKTxhVCN0",
    "outputId": "b59618f5-a219-47d0-8d9e-207f89cf870c"
   },
   "outputs": [
    {
     "data": {
      "text/plain": [
       "<matplotlib.axes._subplots.AxesSubplot at 0x7f31ede44810>"
      ]
     },
     "execution_count": 56,
     "metadata": {},
     "output_type": "execute_result"
    },
    {
     "data": {
      "image/png": "[encoded data removed]",
      "text/plain": [
       "<Figure size 432x288 with 1 Axes>"
      ]
     },
     "metadata": {
      "needs_background": "light"
     },
     "output_type": "display_data"
    }
   ],
   "source": [
    "sns.histplot(data=df,x=\"text length\")"
   ]
  },
  {
   "cell_type": "code",
   "execution_count": 57,
   "metadata": {
    "colab": {
     "base_uri": "https://localhost:8080/",
     "height": 457
    },
    "id": "jekcnGixWKPP",
    "outputId": "80f1f06e-4ac0-4dd3-8c85-7989d6b21810"
   },
   "outputs": [
    {
     "data": {
      "image/png": "[encoded data removed]",
      "text/plain": [
       "<Figure size 648x432 with 1 Axes>"
      ]
     },
     "metadata": {
      "needs_background": "light"
     },
     "output_type": "display_data"
    }
   ],
   "source": [
    "plt.figure(figsize = (9, 6))\n",
    "ax = plt.axes()\n",
    "ax.set_facecolor('white')\n",
    "ax = ((df.location.value_counts())[:10]).plot(kind = 'bar', color = 'lightcoral', linewidth = 2, edgecolor = 'white')\n",
    "plt.title('Location Count', fontsize = 14)\n",
    "plt.xlabel('Location', fontsize = 12)\n",
    "plt.ylabel('Count', fontsize = 12)\n",
    "ax.xaxis.set_tick_params(labelsize = 12, rotation = 30)\n",
    "ax.yaxis.set_tick_params(labelsize = 12)"
   ]
  },
  {
   "cell_type": "code",
   "execution_count": 58,
   "metadata": {
    "colab": {
     "base_uri": "https://localhost:8080/"
    },
    "id": "BWwev4gGaNOK",
    "outputId": "54752df6-c0e3-43f4-ea76-e887d8e010b6"
   },
   "outputs": [
    {
     "name": "stdout",
     "output_type": "stream",
     "text": [
      "Number of unique keywords: 222\n"
     ]
    }
   ],
   "source": [
    "number_of_unique_keywords=df['keyword'].unique().size\n",
    "print(f'Number of unique keywords: {number_of_unique_keywords}')"
   ]
  },
  {
   "cell_type": "code",
   "execution_count": 59,
   "metadata": {
    "colab": {
     "base_uri": "https://localhost:8080/",
     "height": 1000
    },
    "id": "Cm1rF38CaQ3o",
    "outputId": "46a9e6a7-f603-40bd-fcfb-f7ff593707a0"
   },
   "outputs": [
    {
     "data": {
      "image/png": "[encoded data removed]",
      "text/plain": [
       "<Figure size 1080x2160 with 1 Axes>"
      ]
     },
     "metadata": {
      "needs_background": "light"
     },
     "output_type": "display_data"
    }
   ],
   "source": [
    "plt.rcParams[\"figure.figsize\"] = [15, 30]\n",
    "plt.rcParams[\"figure.autolayout\"] = True\n",
    "df['keyword'].value_counts().plot(kind='barh')\n",
    "plt.grid(True)"
   ]
  },
  {
   "cell_type": "code",
   "execution_count": 60,
   "metadata": {
    "id": "AbdRMa93aohb"
   },
   "outputs": [],
   "source": [
    "from collections import defaultdict\n",
    "\n",
    "def generate_ngrams(text, n_gram=1):\n",
    "    token = [token for token in text.split(' ') if token != '']\n",
    "    ngrams = zip(*[token[i:] for i in range(n_gram)])\n",
    "    return [' '.join(ngram) for ngram in ngrams]\n",
    "\n",
    "N = 50\n",
    "DISASTER_TWEETS = df['target'] == 1\n",
    "# Unigrams\n",
    "disaster_unigrams = defaultdict(int)\n",
    "nondisaster_unigrams = defaultdict(int)\n",
    "\n",
    "for tweet in df[DISASTER_TWEETS]['processed_tweet']:\n",
    "    for word in generate_ngrams(tweet):\n",
    "        disaster_unigrams[word] += 1\n",
    "        \n",
    "for tweet in df[~DISASTER_TWEETS]['processed_tweet']:\n",
    "    for word in generate_ngrams(tweet):\n",
    "        nondisaster_unigrams[word] += 1\n",
    "\n",
    "df_disaster_unigrams = pd.DataFrame(sorted(disaster_unigrams.items(), key=lambda x: x[1])[::-1])\n",
    "df_nondisaster_unigrams = pd.DataFrame(sorted(nondisaster_unigrams.items(), key=lambda x: x[1])[::-1])\n"
   ]
  },
  {
   "cell_type": "code",
   "execution_count": 61,
   "metadata": {
    "colab": {
     "base_uri": "https://localhost:8080/",
     "height": 1000
    },
    "id": "82UkLwt1mrfW",
    "outputId": "ade467a6-48ff-488f-a14d-c7d7925b8608"
   },
   "outputs": [
    {
     "data": {
      "image/png": "[encoded data removed]",
      "text/plain": [
       "<Figure size 1800x3000 with 2 Axes>"
      ]
     },
     "metadata": {
      "needs_background": "light"
     },
     "output_type": "display_data"
    }
   ],
   "source": [
    "fig, axes = plt.subplots(ncols=2, figsize=(18, 30), dpi=100)\n",
    "plt.tight_layout()\n",
    "\n",
    "sns.barplot(y=df_disaster_unigrams[0].values[:N], x=df_disaster_unigrams[1].values[:N], ax=axes[0], color='lightcoral')\n",
    "sns.barplot(y=df_nondisaster_unigrams[0].values[:N], x=df_nondisaster_unigrams[1].values[:N], ax=axes[1], color='lightskyblue')\n",
    "\n",
    "for i in range(2):\n",
    "    axes[i].spines['right'].set_visible(False)\n",
    "    axes[i].set_xlabel('')\n",
    "    axes[i].set_ylabel('')\n",
    "    axes[i].tick_params(axis='x', labelsize=13)\n",
    "    axes[i].tick_params(axis='y', labelsize=13)\n",
    "\n",
    "axes[0].set_title(f'Top {N} most common unigrams in Disaster Tweets', fontsize=15)\n",
    "axes[1].set_title(f'Top {N} most common unigrams in Non-disaster Tweets', fontsize=15)\n",
    "\n",
    "plt.show()"
   ]
  },
  {
   "cell_type": "code",
   "execution_count": 62,
   "metadata": {
    "colab": {
     "base_uri": "https://localhost:8080/"
    },
    "id": "ceo9QCPGDn_x",
    "outputId": "5cb2bf38-99b0-410a-b88d-73554be7523e"
   },
   "outputs": [
    {
     "data": {
      "text/plain": [
       "0    4342\n",
       "1    3271\n",
       "Name: target, dtype: int64"
      ]
     },
     "execution_count": 62,
     "metadata": {},
     "output_type": "execute_result"
    }
   ],
   "source": [
    "df['target'].value_counts()"
   ]
  },
  {
   "cell_type": "code",
   "execution_count": 62,
   "metadata": {
    "id": "8Du3GD7IDn_x"
   },
   "outputs": [],
   "source": []
  },
  {
   "cell_type": "code",
   "execution_count": 63,
   "metadata": {
    "id": "RmchxOP2Dn_x"
   },
   "outputs": [],
   "source": [
    "X = df['processed_tweet']\n",
    "y = df['target']"
   ]
  },
  {
   "cell_type": "code",
   "execution_count": 64,
   "metadata": {
    "colab": {
     "base_uri": "https://localhost:8080/"
    },
    "id": "ZZXDyehQDn_x",
    "outputId": "5465b35e-3867-4e0d-f496-ca4c49a29f5d"
   },
   "outputs": [
    {
     "name": "stdout",
     "output_type": "stream",
     "text": [
      "(7613,)\n",
      "(7613,)\n"
     ]
    }
   ],
   "source": [
    "print(X.shape)\n",
    "print(y.shape)"
   ]
  },
  {
   "cell_type": "code",
   "execution_count": 65,
   "metadata": {
    "id": "ohEZk61KDn_y"
   },
   "outputs": [],
   "source": [
    "from sklearn.model_selection  import train_test_split\n",
    "X_train, X_test, y_train, y_test = train_test_split(X, y,stratify=y, random_state=1,test_size=0.25)"
   ]
  },
  {
   "cell_type": "code",
   "execution_count": 66,
   "metadata": {
    "id": "TNXbc6ZxDn_y"
   },
   "outputs": [],
   "source": [
    "from sklearn.feature_extraction.text import CountVectorizer\n",
    "vect = CountVectorizer()"
   ]
  },
  {
   "cell_type": "code",
   "execution_count": 67,
   "metadata": {
    "colab": {
     "base_uri": "https://localhost:8080/"
    },
    "id": "eJPWZARPDn_y",
    "outputId": "75000a70-844c-4e00-8594-64dc84c0d9f1"
   },
   "outputs": [
    {
     "data": {
      "text/plain": [
       "CountVectorizer()"
      ]
     },
     "execution_count": 67,
     "metadata": {},
     "output_type": "execute_result"
    }
   ],
   "source": [
    "vect.fit(X_train)"
   ]
  },
  {
   "cell_type": "code",
   "execution_count": 68,
   "metadata": {
    "colab": {
     "base_uri": "https://localhost:8080/"
    },
    "id": "8uNyVvwUDn_y",
    "outputId": "ebcbabee-7c36-40b7-cda6-b3a6eb68d17b"
   },
   "outputs": [
    {
     "data": {
      "text/plain": [
       "{'snipe': 3581,\n",
       " 'bloodi': 421,\n",
       " 'insomnia': 1992,\n",
       " 'fire': 1481,\n",
       " 'hazard': 1788,\n",
       " 'associ': 231,\n",
       " 'instal': 1995,\n",
       " 'extern': 1384,\n",
       " 'clad': 718,\n",
       " 'truckload': 4089,\n",
       " 'blow': 424,\n",
       " 'nobodi': 2579,\n",
       " 'one': 2645,\n",
       " 'littl': 2236,\n",
       " 'lion': 2223,\n",
       " 'everyon': 1341,\n",
       " 'mind': 2416,\n",
       " 'crush': 939,\n",
       " 'ignit': 1912,\n",
       " 'knock': 2113,\n",
       " 'deton': 1074,\n",
       " 'sensor': 3413,\n",
       " 'connector': 832,\n",
       " 'weather': 4330,\n",
       " 'outlook': 2687,\n",
       " 'mortal': 2480,\n",
       " 'clay': 724,\n",
       " 'pigeon': 2823,\n",
       " 'shoot': 3470,\n",
       " 'cri': 924,\n",
       " 'aftershock': 65,\n",
       " 'fear': 1438,\n",
       " 'rainstorm': 3076,\n",
       " 'big': 380,\n",
       " 'troubl': 4085,\n",
       " 'race': 3059,\n",
       " 'find': 1475,\n",
       " 'solut': 3610,\n",
       " 'need': 2545,\n",
       " 'team': 3895,\n",
       " 'hair': 1748,\n",
       " 'poverti': 2913,\n",
       " 'moment': 2456,\n",
       " 'get': 1637,\n",
       " 'fade': 1398,\n",
       " 'weekend': 4335,\n",
       " 'wick': 4372,\n",
       " 'surround': 3839,\n",
       " 'mayb': 2349,\n",
       " 'that': 3930,\n",
       " 'tornado': 4012,\n",
       " 'volcano': 4282,\n",
       " 'breath': 484,\n",
       " 'like': 2215,\n",
       " 'windstorm': 4385,\n",
       " 'cool': 863,\n",
       " 'respons': 3210,\n",
       " 'interview': 2018,\n",
       " 'part': 2742,\n",
       " 'sing': 3513,\n",
       " 'tsunami': 4098,\n",
       " 'comput': 812,\n",
       " 'tutori': 4108,\n",
       " 'break': 480,\n",
       " 'news': 2566,\n",
       " 'unconfirm': 4142,\n",
       " 'loud': 2266,\n",
       " 'bang': 301,\n",
       " 'nearbi': 2541,\n",
       " 'blast': 407,\n",
       " 'wind': 4382,\n",
       " 'ass': 224,\n",
       " 'let': 2193,\n",
       " 'peopl': 2779,\n",
       " 'surf': 3833,\n",
       " 'bay': 333,\n",
       " 'beach': 334,\n",
       " 'ever': 1337,\n",
       " 'updat': 4197,\n",
       " 'close': 738,\n",
       " 'due': 1205,\n",
       " 'lake': 2132,\n",
       " 'counti': 891,\n",
       " 'invest': 2024,\n",
       " 'green': 1705,\n",
       " 'mountain': 2493,\n",
       " 'earn': 1222,\n",
       " 'sink': 3515,\n",
       " 'afterhour': 62,\n",
       " 'stock': 3730,\n",
       " 'train': 4041,\n",
       " 'derail': 1054,\n",
       " 'villag': 4256,\n",
       " 'youth': 4458,\n",
       " 'save': 3349,\n",
       " 'mani': 2307,\n",
       " 'hail': 1746,\n",
       " 'can': 582,\n",
       " 'not': 2598,\n",
       " 'lie': 2204,\n",
       " 'believ': 360,\n",
       " 'catastroph': 629,\n",
       " 'global': 1660,\n",
       " 'warm': 4306,\n",
       " 'perfectli': 2786,\n",
       " 'content': 850,\n",
       " 'noth': 2600,\n",
       " 'text': 3928,\n",
       " 'crap': 907,\n",
       " 'say': 3353,\n",
       " 'blame': 404,\n",
       " 'blaze': 408,\n",
       " 'plastic': 2853,\n",
       " 'busi': 548,\n",
       " 'protest': 3003,\n",
       " 'ralli': 3078,\n",
       " 'stone': 3733,\n",
       " 'they': 3941,\n",
       " 'burn': 542,\n",
       " 'store': 3738,\n",
       " 'obligatori': 2620,\n",
       " 'middl': 2397,\n",
       " 'night': 2573,\n",
       " 'panic': 2726,\n",
       " 'attack': 242,\n",
       " 'bin': 388,\n",
       " 'laden': 2130,\n",
       " 'famili': 1414,\n",
       " 'plane': 2847,\n",
       " 'land': 2138,\n",
       " 'lava': 2157,\n",
       " 'power': 2916,\n",
       " 'red': 3131,\n",
       " 'wildfir': 4377,\n",
       " 'manag': 2302,\n",
       " 'size': 3526,\n",
       " 'affect': 57,\n",
       " 'fight': 1466,\n",
       " 'show': 3483,\n",
       " 'upward': 4206,\n",
       " 'climat': 734,\n",
       " 'forest': 1542,\n",
       " 'servic': 3429,\n",
       " 'spend': 3654,\n",
       " 'half': 1749,\n",
       " 'budget': 522,\n",
       " 'ancient': 140,\n",
       " 'nuclear': 2609,\n",
       " 'reactor': 3100,\n",
       " 'discov': 1117,\n",
       " 'pick': 2817,\n",
       " 'may': 2348,\n",
       " 'logic': 2250,\n",
       " 'right': 3250,\n",
       " 'call': 567,\n",
       " 'act': 33,\n",
       " 'mass': 2335,\n",
       " 'murder': 2511,\n",
       " 'sanction': 3336,\n",
       " 'beauti': 342,\n",
       " 'morn': 2478,\n",
       " 'horribl': 1870,\n",
       " 'open': 2652,\n",
       " 'snowi': 3587,\n",
       " 'blizzard': 415,\n",
       " 'left': 2177,\n",
       " 'piec': 2821,\n",
       " 'paper': 2731,\n",
       " 'jean': 2048,\n",
       " 'pocket': 2872,\n",
       " 'two': 4120,\n",
       " 'giant': 1641,\n",
       " 'hold': 1845,\n",
       " 'bridg': 492,\n",
       " 'collaps': 771,\n",
       " 'vale': 4221,\n",
       " 'south': 3631,\n",
       " 'outbound': 2679,\n",
       " 'near': 2540,\n",
       " 'emerg': 1276,\n",
       " 'lane': 2143,\n",
       " 'locksmith': 2248,\n",
       " 'domest': 1159,\n",
       " 'mechan': 2358,\n",
       " 'circa': 710,\n",
       " 'clock': 737,\n",
       " 'movement': 2498,\n",
       " 'diet': 1090,\n",
       " 'mole': 2452,\n",
       " 'whensoev': 4358,\n",
       " 'nevermor': 2563,\n",
       " 'come': 785,\n",
       " 'polic': 2877,\n",
       " 'investig': 2025,\n",
       " 'car': 606,\n",
       " 'rider': 3245,\n",
       " 'seriou': 3425,\n",
       " 'nonlif': 2585,\n",
       " 'threaten': 3959,\n",
       " 'arsonist': 212,\n",
       " 'vegetarian': 4234,\n",
       " 'restaur': 3213,\n",
       " 'home': 1851,\n",
       " 'fast': 1430,\n",
       " 'wish': 4394,\n",
       " 'accid': 17,\n",
       " 'truck': 4088,\n",
       " 'spilt': 3659,\n",
       " 'mayonnais': 2351,\n",
       " 'holi': 1847,\n",
       " 'bitch': 395,\n",
       " 'got': 1681,\n",
       " 'hard': 1770,\n",
       " 'state': 3705,\n",
       " 'standard': 3698,\n",
       " 'governor': 1683,\n",
       " 'parol': 2741,\n",
       " 'school': 3367,\n",
       " 'sentinel': 3416,\n",
       " 'blue': 427,\n",
       " 'bird': 391,\n",
       " 'moth': 2484,\n",
       " 'catch': 630,\n",
       " 'mous': 2495,\n",
       " 'massacr': 2336,\n",
       " 'subtl': 3791,\n",
       " 'diss': 1134,\n",
       " 'photo': 2810,\n",
       " 'trap': 4050,\n",
       " 'bake': 294,\n",
       " 'without': 4400,\n",
       " 'turn': 4105,\n",
       " 'kitchen': 2106,\n",
       " 'war': 4302,\n",
       " 'zone': 4467,\n",
       " 'flour': 1514,\n",
       " 'man': 2300,\n",
       " 'woman': 4406,\n",
       " 'romanc': 3275,\n",
       " 'sale': 3326,\n",
       " 'preorder': 2936,\n",
       " 'hit': 1838,\n",
       " 'damag': 976,\n",
       " 'someon': 3614,\n",
       " 'gansey': 1614,\n",
       " 'brick': 489,\n",
       " 'seven': 3434,\n",
       " 'differ': 1091,\n",
       " 'deal': 997,\n",
       " 'far': 1424,\n",
       " 'make': 2295,\n",
       " 'world': 4418,\n",
       " 'place': 2844,\n",
       " 'spot': 3670,\n",
       " 'fix': 1492,\n",
       " 'sham': 3446,\n",
       " 'traffic': 4036,\n",
       " 'action': 34,\n",
       " 'usual': 4214,\n",
       " 'council': 887,\n",
       " 'liabl': 2199,\n",
       " 'sound': 3627,\n",
       " 'wound': 4424,\n",
       " 'anim': 148,\n",
       " 'sex': 3439,\n",
       " 'good': 1676,\n",
       " 'fun': 1595,\n",
       " 'bush': 547,\n",
       " 'week': 4334,\n",
       " 'want': 4301,\n",
       " 'obliter': 2621,\n",
       " 'parenthood': 2737,\n",
       " 'scream': 3377,\n",
       " 'think': 3947,\n",
       " 'black': 399,\n",
       " 'histori': 1837,\n",
       " 'white': 4364,\n",
       " 'evacu': 1331,\n",
       " 'abandon': 2,\n",
       " 'aircraft': 80,\n",
       " 'note': 2599,\n",
       " 'becom': 343,\n",
       " 'necessari': 2543,\n",
       " 'look': 2255,\n",
       " 'sport': 3669,\n",
       " 'see': 3396,\n",
       " 'alcohol': 94,\n",
       " 'hous': 1881,\n",
       " 'way': 4322,\n",
       " 'move': 2497,\n",
       " 'full': 1592,\n",
       " 'demon': 1041,\n",
       " 'whole': 4367,\n",
       " 'crusad': 938,\n",
       " 'thing': 3946,\n",
       " 'still': 3727,\n",
       " 'riot': 3254,\n",
       " 'coupl': 894,\n",
       " 'leav': 2175,\n",
       " 'class': 722,\n",
       " 'totalitarian': 4018,\n",
       " 'govern': 1682,\n",
       " 'forc': 1534,\n",
       " 'know': 2115,\n",
       " 'seek': 3398,\n",
       " 'destroy': 1070,\n",
       " 'literatur': 2234,\n",
       " 'wife': 4375,\n",
       " 'hospit': 1874,\n",
       " 'set': 3431,\n",
       " 'sail': 3324,\n",
       " 'new': 2564,\n",
       " 'read': 3101,\n",
       " 'motorcycl': 2489,\n",
       " 'port': 2896,\n",
       " 'around': 206,\n",
       " 'crash': 908,\n",
       " 'fifti': 1465,\n",
       " 'singl': 3514,\n",
       " 'report': 3190,\n",
       " 'brewer': 488,\n",
       " 'drug': 1199,\n",
       " 'test': 3924,\n",
       " 'point': 2873,\n",
       " 'explos': 1376,\n",
       " 'boy': 469,\n",
       " 'manslaught': 2313,\n",
       " 'toddler': 3992,\n",
       " 'fatal': 1432,\n",
       " 'time': 3980,\n",
       " 'oil': 2640,\n",
       " 'spill': 3658,\n",
       " 'second': 3389,\n",
       " 'confirm': 827,\n",
       " 'storm': 3740,\n",
       " 'video': 4253,\n",
       " 'water': 4317,\n",
       " 'search': 3384,\n",
       " 'mediterranean': 2366,\n",
       " 'flash': 1496,\n",
       " 'thunder': 3967,\n",
       " 'quick': 3052,\n",
       " 'kindl': 2099,\n",
       " 'soon': 3621,\n",
       " 'print': 2963,\n",
       " 'via': 4248,\n",
       " 'creat': 914,\n",
       " 'templ': 3909,\n",
       " 'mount': 2492,\n",
       " 'wave': 4321,\n",
       " 'flag': 1494,\n",
       " 'sunk': 3812,\n",
       " 'face': 1392,\n",
       " 'stomach': 3732,\n",
       " 'vibrat': 4249,\n",
       " 'god': 1669,\n",
       " 'damn': 978,\n",
       " 'hay': 1787,\n",
       " 'masonit': 2334,\n",
       " 'chieftain': 692,\n",
       " 'donat': 1161,\n",
       " 'desol': 1063,\n",
       " 'hope': 1864,\n",
       " 'pipelin': 2833,\n",
       " 'compani': 799,\n",
       " 'crude': 935,\n",
       " 'previous': 2954,\n",
       " 'bump': 535,\n",
       " 'approv': 188,\n",
       " 'probabl': 2973,\n",
       " 'head': 1789,\n",
       " 'explod': 1373,\n",
       " 'swear': 3849,\n",
       " 'watch': 4315,\n",
       " 'old': 2641,\n",
       " 'suicid': 3802,\n",
       " 'bomber': 441,\n",
       " 'bomb': 440,\n",
       " 'stretcher': 3758,\n",
       " 'would': 4423,\n",
       " 'nice': 2569,\n",
       " 'take': 3872,\n",
       " 'year': 4444,\n",
       " 'well': 4342,\n",
       " 'soul': 3626,\n",
       " 'warship': 4310,\n",
       " 'weapon': 4328,\n",
       " 'helicopt': 1807,\n",
       " 'decent': 1006,\n",
       " 'fall': 1409,\n",
       " 'cliff': 733,\n",
       " 'pleas': 2858,\n",
       " 'sever': 3436,\n",
       " 'hailstorm': 1747,\n",
       " 'progress': 2984,\n",
       " 'northeast': 2592,\n",
       " 'anti': 163,\n",
       " 'collis': 777,\n",
       " 'rear': 3111,\n",
       " 'technolog': 3900,\n",
       " 'day': 992,\n",
       " 'sinc': 3511,\n",
       " 'yea': 4442,\n",
       " 'bleed': 409,\n",
       " 'free': 1573,\n",
       " 'speak': 3642,\n",
       " 'sure': 3832,\n",
       " 'grill': 1712,\n",
       " 'pop': 2888,\n",
       " 'quiz': 3056,\n",
       " 'prefer': 2931,\n",
       " 'lead': 2166,\n",
       " 'charact': 668,\n",
       " 'lucki': 2274,\n",
       " 'spirit': 3661,\n",
       " 'life': 2206,\n",
       " 'intact': 2002,\n",
       " 'tablet': 3865,\n",
       " 'lowli': 2271,\n",
       " 'king': 2102,\n",
       " 'demolish': 1039,\n",
       " 'illeg': 1915,\n",
       " 'intern': 2008,\n",
       " 'confer': 825,\n",
       " 'miss': 2437,\n",
       " 'sir': 3518,\n",
       " 'economi': 1237,\n",
       " 'cork': 874,\n",
       " 'citi': 715,\n",
       " 'heat': 1801,\n",
       " 'horrif': 1871,\n",
       " 'secur': 3393,\n",
       " 'site': 3522,\n",
       " 'mosqu': 2482,\n",
       " 'handbag': 1756,\n",
       " 'leather': 2174,\n",
       " 'ladi': 2131,\n",
       " 'shoulder': 3479,\n",
       " 'tote': 4019,\n",
       " 'cross': 932,\n",
       " 'bodi': 437,\n",
       " 'bag': 289,\n",
       " 'larg': 2147,\n",
       " 'satchel': 3344,\n",
       " 'rea': 3097,\n",
       " 'polici': 2878,\n",
       " 'effect': 1245,\n",
       " 'cotton': 885,\n",
       " 'candi': 587,\n",
       " 'realli': 3108,\n",
       " 'offici': 2636,\n",
       " 'satan': 3343,\n",
       " 'skin': 3532,\n",
       " 'date': 989,\n",
       " 'meet': 2370,\n",
       " 'hot': 1877,\n",
       " 'teen': 3903,\n",
       " 'fat': 1431,\n",
       " 'cock': 754,\n",
       " 'absolut': 11,\n",
       " 'purchas': 3031,\n",
       " 'boss': 454,\n",
       " 'siren': 3519,\n",
       " 'warn': 4307,\n",
       " 'pizza': 2843,\n",
       " 'drought': 1197,\n",
       " 'dad': 970,\n",
       " 'weight': 4338,\n",
       " 'loss': 2264,\n",
       " 'hurri': 1897,\n",
       " 'cloth': 740,\n",
       " 'reach': 3098,\n",
       " 'goal': 1667,\n",
       " 'earth': 1224,\n",
       " 'sea': 3382,\n",
       " 'sky': 3538,\n",
       " 'send': 3409,\n",
       " 'whine': 4360,\n",
       " 'integr': 2003,\n",
       " 'great': 1701,\n",
       " 'upheav': 4199,\n",
       " 'jay': 2045,\n",
       " 'drunk': 1201,\n",
       " 'cook': 862,\n",
       " 'total': 4017,\n",
       " 'boston': 455,\n",
       " 'yesterday': 4449,\n",
       " 'sunni': 3813,\n",
       " 'amaz': 125,\n",
       " 'today': 3991,\n",
       " 'finish': 1478,\n",
       " 'major': 2294,\n",
       " 'late': 2150,\n",
       " 'escap': 1323,\n",
       " 'check': 680,\n",
       " 'footag': 1529,\n",
       " 'lightn': 2214,\n",
       " 'lift': 2210,\n",
       " 'domin': 1160,\n",
       " 'coffe': 761,\n",
       " 'must': 2518,\n",
       " 'lee': 2176,\n",
       " 'comedi': 786,\n",
       " 'work': 4414,\n",
       " 'prepar': 2937,\n",
       " 'hostag': 1876,\n",
       " 'destruct': 1071,\n",
       " 'breakfast': 482,\n",
       " 'link': 2222,\n",
       " 'empti': 1282,\n",
       " 'ser': 3421,\n",
       " 'cryptic': 941,\n",
       " 'mission': 2439,\n",
       " 'rage': 3069,\n",
       " 'alarm': 88,\n",
       " 'rise': 3257,\n",
       " 'past': 2755,\n",
       " 'fulli': 1594,\n",
       " 'there': 3939,\n",
       " 'brew': 487,\n",
       " 'dark': 986,\n",
       " 'rain': 3073,\n",
       " 'carri': 615,\n",
       " 'thick': 3943,\n",
       " 'dust': 1215,\n",
       " 'could': 886,\n",
       " 'interest': 2007,\n",
       " 'salt': 3329,\n",
       " 'river': 3262,\n",
       " 'help': 1813,\n",
       " 'stop': 3736,\n",
       " 'annihil': 151,\n",
       " 'happen': 1765,\n",
       " 'post': 2904,\n",
       " 'put': 3038,\n",
       " 'terror': 3922,\n",
       " 'sit': 3521,\n",
       " 'care': 608,\n",
       " 'market': 2328,\n",
       " 'rubbl': 3301,\n",
       " 'wait': 4292,\n",
       " 'tell': 3906,\n",
       " 'colleg': 773,\n",
       " 'friend': 1581,\n",
       " 'mari': 2322,\n",
       " 'drama': 1180,\n",
       " 'bad': 284,\n",
       " 'step': 3720,\n",
       " 'surviv': 3841,\n",
       " 'deadli': 996,\n",
       " 'end': 1287,\n",
       " 'cat': 627,\n",
       " 'vacat': 4219,\n",
       " 'institution': 2000,\n",
       " 'slander': 3540,\n",
       " 'weak': 4324,\n",
       " 'fake': 1407,\n",
       " 'blood': 420,\n",
       " 'treat': 4055,\n",
       " 'pretti': 2950,\n",
       " 'construct': 844,\n",
       " 'civilian': 717,\n",
       " 'unit': 4165,\n",
       " 'disast': 1110,\n",
       " 'declar': 1010,\n",
       " 'northern': 2593,\n",
       " 'lab': 2122,\n",
       " 'secret': 3391,\n",
       " 'cut': 962,\n",
       " 'film': 1470,\n",
       " 'halt': 1752,\n",
       " 'give': 1650,\n",
       " 'curfew': 954,\n",
       " 'listen': 2230,\n",
       " 'list': 2229,\n",
       " 'snowstorm': 3588,\n",
       " 'person': 2797,\n",
       " 'rid': 3243,\n",
       " 'either': 1251,\n",
       " 'striker': 3762,\n",
       " 'former': 1549,\n",
       " 'sleep': 3546,\n",
       " 'awn': 277,\n",
       " 'gambit': 1609,\n",
       " 'turkey': 4104,\n",
       " 'law': 2159,\n",
       " 'order': 2670,\n",
       " 'vine': 4257,\n",
       " 'wholesal': 4368,\n",
       " 'ablaz': 5,\n",
       " 'sick': 3490,\n",
       " 'offic': 2635,\n",
       " 'bare': 310,\n",
       " 'aliv': 100,\n",
       " 'idea': 1909,\n",
       " 'allerg': 105,\n",
       " 'terrorist': 3923,\n",
       " 'dead': 995,\n",
       " 'excit': 1355,\n",
       " 'next': 2568,\n",
       " 'student': 3772,\n",
       " 'debt': 1004,\n",
       " 'also': 117,\n",
       " 'chang': 664,\n",
       " 'lifetim': 2209,\n",
       " 'board': 431,\n",
       " 'rate': 3091,\n",
       " 'hike': 1829,\n",
       " 'flip': 1508,\n",
       " 'side': 3491,\n",
       " 'stay': 3710,\n",
       " 'tune': 4101,\n",
       " 'possibl': 2903,\n",
       " 'though': 3954,\n",
       " 'regardless': 3147,\n",
       " 'solar': 3603,\n",
       " 'equal': 1315,\n",
       " 'capac': 597,\n",
       " 'walk': 4296,\n",
       " 'bed': 344,\n",
       " 'accident': 18,\n",
       " 'mate': 2343,\n",
       " 'none': 2583,\n",
       " 'impact': 1925,\n",
       " 'even': 1334,\n",
       " 'stir': 3729,\n",
       " 'violent': 4262,\n",
       " 'trump': 4093,\n",
       " 'gener': 1628,\n",
       " 'elect': 1255,\n",
       " 'scienc': 3368,\n",
       " 'wreckag': 4429,\n",
       " 'flight': 1506,\n",
       " 'union': 4163,\n",
       " 'island': 2033,\n",
       " 'evil': 1345,\n",
       " 'sexi': 3440,\n",
       " 'love': 2267,\n",
       " 'steal': 3713,\n",
       " 'nation': 2534,\n",
       " 'guard': 1722,\n",
       " 'armori': 205,\n",
       " 'colorado': 779,\n",
       " 'theater': 3932,\n",
       " 'victim': 4251,\n",
       " 'copycat': 870,\n",
       " 'thunderstorm': 3968,\n",
       " 'strip': 3763,\n",
       " 'four': 1560,\n",
       " 'caus': 634,\n",
       " 'unknown': 4169,\n",
       " 'air': 79,\n",
       " 'base': 317,\n",
       " 'east': 1228,\n",
       " 'zaman': 4460,\n",
       " 'pilot': 2827,\n",
       " 'festiv': 1452,\n",
       " 'run': 3308,\n",
       " 'stori': 3739,\n",
       " 'focu': 1521,\n",
       " 'tea': 3892,\n",
       " 'munch': 2509,\n",
       " 'speci': 3645,\n",
       " 'keep': 2087,\n",
       " 'avert': 268,\n",
       " 'boxer': 468,\n",
       " 'brief': 494,\n",
       " 'rescu': 3199,\n",
       " 'flood': 1510,\n",
       " 'nativ': 2535,\n",
       " 'urin': 4210,\n",
       " 'angri': 146,\n",
       " 'tri': 4062,\n",
       " 'drown': 1198,\n",
       " 'cyclon': 968,\n",
       " 'quarter': 3046,\n",
       " 'panel': 2725,\n",
       " 'trim': 4074,\n",
       " 'cobra': 752,\n",
       " 'jet': 2053,\n",
       " 'silenc': 3499,\n",
       " 'august': 254,\n",
       " 'liter': 2233,\n",
       " 'door': 1163,\n",
       " 'apocalyps': 173,\n",
       " 'fascin': 1428,\n",
       " 'insid': 1990,\n",
       " 'north': 2590,\n",
       " 'propaganda': 2993,\n",
       " 'devast': 1076,\n",
       " 'live': 2237,\n",
       " 'cano': 591,\n",
       " 'feed': 1445,\n",
       " 'win': 4381,\n",
       " 'landslid': 2142,\n",
       " 'current': 957,\n",
       " 'follow': 1523,\n",
       " 'avoid': 270,\n",
       " 'area': 196,\n",
       " 'wreck': 4428,\n",
       " 'publish': 3016,\n",
       " 'anyth': 169,\n",
       " 'neg': 2547,\n",
       " 'public': 3015,\n",
       " 'support': 3828,\n",
       " 'favor': 1436,\n",
       " 'rule': 3306,\n",
       " 'structur': 3768,\n",
       " 'failur': 1400,\n",
       " 'announc': 153,\n",
       " 'certainli': 652,\n",
       " 'thought': 3955,\n",
       " 'parti': 2745,\n",
       " 'have': 1786,\n",
       " 'exist': 1359,\n",
       " 'everi': 1338,\n",
       " 'eyewit': 1390,\n",
       " 'travel': 4052,\n",
       " 'guid': 1726,\n",
       " 'eye': 1389,\n",
       " 'money': 2459,\n",
       " 'elbow': 1253,\n",
       " 'staff': 3693,\n",
       " 'teacher': 3894,\n",
       " 'version': 4242,\n",
       " 'milit': 2408,\n",
       " 'town': 4027,\n",
       " 'debri': 1003,\n",
       " 'discoveri': 1118,\n",
       " 'start': 3702,\n",
       " 'privat': 2969,\n",
       " 'tutor': 4107,\n",
       " 'mean': 2353,\n",
       " 'fan': 1419,\n",
       " 'girl': 1648,\n",
       " 'els': 1271,\n",
       " 'electrocut': 1258,\n",
       " 'hand': 1755,\n",
       " 'throw': 3964,\n",
       " 'automat': 261,\n",
       " 'pressur': 2947,\n",
       " 'monitor': 2460,\n",
       " 'cartoon': 619,\n",
       " 'toilet': 3996,\n",
       " 'ash': 218,\n",
       " 'delta': 1033,\n",
       " 'min': 2415,\n",
       " 'speaker': 3643,\n",
       " 'deck': 1009,\n",
       " 'drop': 1196,\n",
       " 'tomorrow': 3998,\n",
       " 'welcom': 4340,\n",
       " 'ahead': 75,\n",
       " 'realist': 3105,\n",
       " 'asset': 229,\n",
       " 'enter': 1300,\n",
       " 'add': 40,\n",
       " 'small': 3564,\n",
       " 'casualti': 626,\n",
       " 'write': 4433,\n",
       " 'abil': 3,\n",
       " 'offer': 2634,\n",
       " 'futur': 1603,\n",
       " 'anyway': 170,\n",
       " 'back': 280,\n",
       " 'pam': 2719,\n",
       " 'tradit': 4034,\n",
       " 'hurrican': 1898,\n",
       " 'harbor': 1769,\n",
       " 'queen': 3048,\n",
       " 'michigan': 2392,\n",
       " 'techniqu': 3899,\n",
       " 'thank': 3929,\n",
       " 'virgin': 4264,\n",
       " 'galact': 1607,\n",
       " 'spaceship': 3639,\n",
       " 'last': 2148,\n",
       " 'alright': 116,\n",
       " 'easili': 1227,\n",
       " 'least': 2173,\n",
       " 'psalm': 3010,\n",
       " 'lord': 2260,\n",
       " 'trust': 4095,\n",
       " 'shall': 3445,\n",
       " 'lot': 2265,\n",
       " 'yeah': 4443,\n",
       " 'stabl': 3690,\n",
       " 'seat': 3387,\n",
       " 'slip': 3554,\n",
       " 'natur': 2536,\n",
       " 'might': 2402,\n",
       " 'pic': 2816,\n",
       " 'armi': 204,\n",
       " 'trench': 4058,\n",
       " 'food': 1525,\n",
       " 'suppli': 3827,\n",
       " 'seiz': 3403,\n",
       " 'popul': 2892,\n",
       " 'artifici': 215,\n",
       " 'famin': 1417,\n",
       " 'result': 3218,\n",
       " 'anoth': 157,\n",
       " 'movi': 2499,\n",
       " 'allow': 109,\n",
       " 'terribl': 3918,\n",
       " 'daili': 972,\n",
       " 'basi': 321,\n",
       " 'blind': 413,\n",
       " 'bloke': 418,\n",
       " 'drink': 1190,\n",
       " 'smoke': 3572,\n",
       " 'worth': 4421,\n",
       " 'hassl': 1780,\n",
       " 'street': 3754,\n",
       " 'park': 2738,\n",
       " 'ave': 265,\n",
       " 'bypass': 556,\n",
       " 'what': 4351,\n",
       " 'plan': 2846,\n",
       " 'long': 2253,\n",
       " 'transport': 4049,\n",
       " 'wake': 4294,\n",
       " 'anthrax': 162,\n",
       " 'feat': 1440,\n",
       " 'origin': 2672,\n",
       " 'mix': 2444,\n",
       " 'massiv': 2337,\n",
       " 'danc': 982,\n",
       " 'radio': 3065,\n",
       " 'beyond': 375,\n",
       " 'ador': 48,\n",
       " 'will': 4378,\n",
       " 'clutch': 745,\n",
       " 'gun': 1730,\n",
       " 'demand': 1035,\n",
       " 'hatchet': 1782,\n",
       " 'word': 4413,\n",
       " 'horrend': 1869,\n",
       " 'less': 2190,\n",
       " 'first': 1487,\n",
       " 'glad': 1653,\n",
       " 'hat': 1781,\n",
       " 'lieu': 2205,\n",
       " 'alreadi': 115,\n",
       " 'twitter': 4119,\n",
       " 'die': 1089,\n",
       " 'diseas': 1121,\n",
       " 'case': 621,\n",
       " 'nearli': 2542,\n",
       " 'notori': 2604,\n",
       " 'laboratori': 2125,\n",
       " 'dealer': 998,\n",
       " 'block': 416,\n",
       " 'chanc': 663,\n",
       " 'groin': 1714,\n",
       " 'awesom': 276,\n",
       " 'quarantin': 3044,\n",
       " 'offens': 2633,\n",
       " 'weird': 4339,\n",
       " 'mystic': 2524,\n",
       " 'ocean': 2628,\n",
       " 'unheal': 4160,\n",
       " 'unend': 4152,\n",
       " 'conflict': 828,\n",
       " 'moli': 2454,\n",
       " 'japan': 2043,\n",
       " 'anniversari': 152,\n",
       " 'atom': 240,\n",
       " 'senior': 3410,\n",
       " 'burp': 544,\n",
       " 'tragedi': 4037,\n",
       " 'recount': 3127,\n",
       " 'horror': 1872,\n",
       " 'when': 4356,\n",
       " 'plung': 2870,\n",
       " 'brown': 511,\n",
       " 'mop': 2472,\n",
       " 'music': 2515,\n",
       " 'group': 1718,\n",
       " 'maria': 2323,\n",
       " 'dear': 999,\n",
       " 'argument': 200,\n",
       " 'serial': 3424,\n",
       " 'attract': 248,\n",
       " 'space': 3638,\n",
       " 'immin': 1924,\n",
       " 'access': 16,\n",
       " 'extens': 1382,\n",
       " 'threat': 3958,\n",
       " 'inform': 1974,\n",
       " 'box': 467,\n",
       " 'intellig': 2004,\n",
       " 'self': 3405,\n",
       " 'wow': 4425,\n",
       " 'heart': 1796,\n",
       " 'languish': 2145,\n",
       " 'kill': 2096,\n",
       " 'sign': 3496,\n",
       " 'hello': 1810,\n",
       " 'cold': 767,\n",
       " 'ice': 1906,\n",
       " 'share': 3450,\n",
       " 'incid': 1944,\n",
       " 'inner': 1984,\n",
       " 'loop': 2257,\n",
       " 'exit': 1360,\n",
       " 'silver': 3503,\n",
       " 'spring': 3677,\n",
       " 'minist': 2421,\n",
       " 'acid': 27,\n",
       " 'player': 2856,\n",
       " 'unprepar': 4178,\n",
       " 'china': 698,\n",
       " 'russia': 3315,\n",
       " 'possess': 2902,\n",
       " 'push': 3036,\n",
       " 'till': 3978,\n",
       " 'predict': 2929,\n",
       " 'center': 645,\n",
       " 'expand': 1362,\n",
       " 'slight': 3552,\n",
       " 'risk': 3259,\n",
       " 'includ': 1947,\n",
       " 'central': 647,\n",
       " 'minut': 2427,\n",
       " 'wash': 4311,\n",
       " 'peacetim': 2770,\n",
       " 'aka': 85,\n",
       " 'room': 3279,\n",
       " 'talk': 3877,\n",
       " 'trauma': 4051,\n",
       " 'therapi': 3938,\n",
       " 'commun': 797,\n",
       " 'hate': 1783,\n",
       " 'babi': 279,\n",
       " 'walter': 4299,\n",
       " 'sen': 3407,\n",
       " 'huge': 1885,\n",
       " 'uncontrol': 4144,\n",
       " 'wild': 4376,\n",
       " 'lighten': 2212,\n",
       " 'datum': 990,\n",
       " 'raw': 3095,\n",
       " 'statist': 3708,\n",
       " 'cop': 865,\n",
       " 'airplan': 83,\n",
       " 'luck': 2273,\n",
       " 'schedul': 3364,\n",
       " 'repair': 3186,\n",
       " 'patienc': 2760,\n",
       " 'hijack': 1828,\n",
       " 'sue': 3798,\n",
       " 'outbreak': 2680,\n",
       " 'remov': 3179,\n",
       " 'parker': 2739,\n",
       " 'ridg': 3246,\n",
       " 'fact': 1395,\n",
       " 'sheet': 3460,\n",
       " 'phone': 2809,\n",
       " 'viru': 4266,\n",
       " 'suspect': 3843,\n",
       " 'join': 2060,\n",
       " 'foot': 1528,\n",
       " 'skinni': 3534,\n",
       " 'health': 1794,\n",
       " 'econom': 1236,\n",
       " 'specif': 3648,\n",
       " 'wealth': 4326,\n",
       " 'financi': 1474,\n",
       " 'blowout': 425,\n",
       " 'meerkat': 2369,\n",
       " 'periscop': 2791,\n",
       " 'stream': 3753,\n",
       " 'victori': 4252,\n",
       " 'bargain': 311,\n",
       " 'basement': 320,\n",
       " 'unwant': 4195,\n",
       " 'alway': 122,\n",
       " 'option': 2663,\n",
       " 'openli': 2653,\n",
       " 'nema': 2554,\n",
       " 'relief': 3164,\n",
       " 'feel': 1446,\n",
       " 'crime': 926,\n",
       " 'ban': 299,\n",
       " 'vocal': 4276,\n",
       " 'lyric': 2277,\n",
       " 'summer': 3805,\n",
       " 'vocalist': 4277,\n",
       " 'suppos': 3829,\n",
       " 'normal': 2589,\n",
       " 'manga': 2306,\n",
       " 'wit': 4395,\n",
       " 'triangl': 4065,\n",
       " 'latest': 2152,\n",
       " 'anda': 141,\n",
       " 'shake': 3444,\n",
       " 'hack': 1744,\n",
       " 'planet': 2848,\n",
       " 'book': 445,\n",
       " ...}"
      ]
     },
     "execution_count": 68,
     "metadata": {},
     "output_type": "execute_result"
    }
   ],
   "source": [
    "# printing the vocabulary\n",
    "vect.vocabulary_"
   ]
  },
  {
   "cell_type": "code",
   "execution_count": 69,
   "metadata": {
    "colab": {
     "base_uri": "https://localhost:8080/"
    },
    "id": "aNbZWpCiDn_y",
    "outputId": "8efba866-a0d5-4581-9253-d1aec50a158a"
   },
   "outputs": [
    {
     "data": {
      "text/plain": [
       "4468"
      ]
     },
     "execution_count": 69,
     "metadata": {},
     "output_type": "execute_result"
    }
   ],
   "source": [
    "# vocab size\n",
    "len(vect.vocabulary_.keys())"
   ]
  },
  {
   "cell_type": "code",
   "execution_count": 70,
   "metadata": {
    "id": "vXlXYh2XDn_y"
   },
   "outputs": [],
   "source": [
    "# transforming the train and test datasets\n",
    "X_train_transformed = vect.transform(X_train)\n",
    "X_test_transformed = vect.transform(X_test)"
   ]
  },
  {
   "cell_type": "code",
   "execution_count": 71,
   "metadata": {
    "colab": {
     "base_uri": "https://localhost:8080/"
    },
    "id": "cswyt9B0Dn_y",
    "outputId": "5d27f29a-f8eb-423c-e15e-8a33ea22d8f0"
   },
   "outputs": [
    {
     "name": "stdout",
     "output_type": "stream",
     "text": [
      "<class 'scipy.sparse.csr.csr_matrix'>\n",
      "  (0, 3581)\t1\n",
      "  (1, 421)\t1\n",
      "  (1, 1992)\t2\n",
      "  (2, 231)\t1\n",
      "  (2, 718)\t1\n",
      "  (2, 1384)\t1\n",
      "  (2, 1481)\t1\n",
      "  (2, 1788)\t1\n",
      "  (2, 1995)\t1\n",
      "  (3, 424)\t1\n",
      "  (3, 1341)\t1\n",
      "  (3, 2223)\t1\n",
      "  (3, 2236)\t1\n",
      "  (3, 2416)\t1\n",
      "  (3, 2579)\t1\n",
      "  (3, 2645)\t1\n",
      "  (3, 4089)\t1\n",
      "  (4, 939)\t1\n",
      "  (5, 832)\t1\n",
      "  (5, 1074)\t1\n",
      "  (5, 1912)\t1\n",
      "  (5, 2113)\t1\n",
      "  (5, 3413)\t1\n",
      "  (6, 1788)\t1\n",
      "  (6, 2687)\t1\n",
      "  :\t:\n",
      "  (5704, 2215)\t1\n",
      "  (5704, 2499)\t1\n",
      "  (5704, 2597)\t1\n",
      "  (5704, 3396)\t1\n",
      "  (5704, 3511)\t1\n",
      "  (5704, 3929)\t1\n",
      "  (5704, 4098)\t1\n",
      "  (5704, 4321)\t1\n",
      "  (5705, 1088)\t1\n",
      "  (5705, 1653)\t1\n",
      "  (5705, 3349)\t1\n",
      "  (5705, 3713)\t1\n",
      "  (5705, 3967)\t1\n",
      "  (5705, 4301)\t1\n",
      "  (5706, 908)\t2\n",
      "  (5706, 2328)\t2\n",
      "  (5706, 3301)\t1\n",
      "  (5706, 3730)\t2\n",
      "  (5706, 3805)\t1\n",
      "  (5707, 11)\t1\n",
      "  (5707, 1739)\t1\n",
      "  (5708, 128)\t1\n",
      "  (5708, 777)\t1\n",
      "  (5708, 1268)\t1\n",
      "  (5708, 4036)\t1\n"
     ]
    }
   ],
   "source": [
    "# note that the type is transformed (sparse) matrix\n",
    "print(type(X_train_transformed))\n",
    "print(X_train_transformed)"
   ]
  },
  {
   "cell_type": "code",
   "execution_count": 72,
   "metadata": {
    "id": "8iqJ3PbADn_y"
   },
   "outputs": [],
   "source": [
    "# training the NB model and making predictions\n",
    "from sklearn.naive_bayes import MultinomialNB\n",
    "mnb = MultinomialNB()\n",
    "\n",
    "# fit\n",
    "mnb.fit(X_train_transformed,y_train)\n",
    "\n",
    "# predict class\n",
    "y_pred_class = mnb.predict(X_test_transformed)\n",
    "\n",
    "# predict probabilities\n",
    "y_pred_proba = mnb.predict_proba(X_test_transformed)"
   ]
  },
  {
   "cell_type": "code",
   "execution_count": 73,
   "metadata": {
    "colab": {
     "base_uri": "https://localhost:8080/"
    },
    "id": "1pXhq7haDn_y",
    "outputId": "36088980-6d7f-4f09-d090-5602a2ea69cb"
   },
   "outputs": [
    {
     "data": {
      "text/plain": [
       "MultinomialNB()"
      ]
     },
     "execution_count": 73,
     "metadata": {},
     "output_type": "execute_result"
    }
   ],
   "source": [
    "# note that alpha=1 is used by default for smoothing\n",
    "mnb"
   ]
  },
  {
   "cell_type": "code",
   "execution_count": 74,
   "metadata": {
    "colab": {
     "base_uri": "https://localhost:8080/"
    },
    "id": "VxG7aCSNDn_y",
    "outputId": "1975504a-c241-425f-d81e-3f48b7aa4d9a"
   },
   "outputs": [
    {
     "data": {
      "text/plain": [
       "0.7662815126050421"
      ]
     },
     "execution_count": 74,
     "metadata": {},
     "output_type": "execute_result"
    }
   ],
   "source": [
    "# printing the overall accuracy\n",
    "from sklearn import metrics\n",
    "metrics.accuracy_score(y_test, y_pred_class)"
   ]
  },
  {
   "cell_type": "code",
   "execution_count": 75,
   "metadata": {
    "colab": {
     "base_uri": "https://localhost:8080/"
    },
    "id": "W3MLjuNSDn_z",
    "outputId": "095ca997-af32-48f8-9bcf-02f051cdd5fc"
   },
   "outputs": [
    {
     "data": {
      "text/plain": [
       "0    1086\n",
       "1     818\n",
       "Name: target, dtype: int64"
      ]
     },
     "execution_count": 75,
     "metadata": {},
     "output_type": "execute_result"
    }
   ],
   "source": [
    "y_test.value_counts()"
   ]
  },
  {
   "cell_type": "code",
   "execution_count": 76,
   "metadata": {
    "colab": {
     "base_uri": "https://localhost:8080/"
    },
    "id": "WGwmJN51Dn_z",
    "outputId": "ede1c089-3691-4684-f2f0-7a13f638c39f"
   },
   "outputs": [
    {
     "data": {
      "text/plain": [
       "array([[914, 172],\n",
       "       [273, 545]])"
      ]
     },
     "execution_count": 76,
     "metadata": {},
     "output_type": "execute_result"
    }
   ],
   "source": [
    "# confusion matrix\n",
    "cm=metrics.confusion_matrix(y_test, y_pred_class)\n",
    "cm"
   ]
  },
  {
   "cell_type": "code",
   "execution_count": 77,
   "metadata": {
    "colab": {
     "base_uri": "https://localhost:8080/",
     "height": 35
    },
    "id": "_lM09WjcDn_z",
    "outputId": "ac6adfd5-f60b-44ce-c500-d3475d7e0cd9"
   },
   "outputs": [
    {
     "data": {
      "application/vnd.google.colaboratory.intrinsic+json": {
       "type": "string"
      },
      "text/plain": [
       "'0.75'"
      ]
     },
     "execution_count": 77,
     "metadata": {},
     "output_type": "execute_result"
    }
   ],
   "source": [
    "\"{:2.2f}\".format(metrics.roc_auc_score(y_test, y_pred_class))"
   ]
  },
  {
   "cell_type": "code",
   "execution_count": null,
   "metadata": {
    "id": "ObK16XilDn_z"
   },
   "outputs": [],
   "source": []
  },
  {
   "cell_type": "code",
   "execution_count": 78,
   "metadata": {
    "id": "NYLb03tQDn_z"
   },
   "outputs": [],
   "source": [
    "from sklearn.feature_extraction.text import TfidfVectorizer"
   ]
  },
  {
   "cell_type": "code",
   "execution_count": 79,
   "metadata": {
    "colab": {
     "base_uri": "https://localhost:8080/"
    },
    "id": "GB5CvG6PDn_z",
    "outputId": "ab795eca-52c4-4c1c-a160-7c7eb21497ca"
   },
   "outputs": [
    {
     "name": "stderr",
     "output_type": "stream",
     "text": [
      "/usr/local/lib/python3.7/dist-packages/sklearn/utils/deprecation.py:87: FutureWarning: Function get_feature_names is deprecated; get_feature_names is deprecated in 1.0 and will be removed in 1.2. Please use get_feature_names_out instead.\n",
      "  warnings.warn(msg, category=FutureWarning)\n"
     ]
    }
   ],
   "source": [
    "tfidfconverter = TfidfVectorizer()\n",
    "x_train_tfidf = tfidfconverter.fit_transform(list(X_train)).toarray()\n",
    "x_train_tfidf_all = pd.DataFrame(x_train_tfidf,columns=tfidfconverter.get_feature_names())\n",
    "\n"
   ]
  },
  {
   "cell_type": "code",
   "execution_count": 80,
   "metadata": {
    "colab": {
     "base_uri": "https://localhost:8080/"
    },
    "id": "gl2KrAAkDn_z",
    "outputId": "14e8d27b-4754-487d-f93d-dbd5ae34f5dd"
   },
   "outputs": [
    {
     "name": "stderr",
     "output_type": "stream",
     "text": [
      "/usr/local/lib/python3.7/dist-packages/sklearn/utils/deprecation.py:87: FutureWarning: Function get_feature_names is deprecated; get_feature_names is deprecated in 1.0 and will be removed in 1.2. Please use get_feature_names_out instead.\n",
      "  warnings.warn(msg, category=FutureWarning)\n"
     ]
    }
   ],
   "source": [
    "x_test_tfidf = tfidfconverter.transform(list(X_test)).toarray()\n",
    "x_test_tfidf_all = pd.DataFrame(x_test_tfidf,columns=tfidfconverter.get_feature_names())\n",
    "\n"
   ]
  },
  {
   "cell_type": "code",
   "execution_count": null,
   "metadata": {
    "id": "FDxO52djDn_z"
   },
   "outputs": [],
   "source": []
  },
  {
   "cell_type": "code",
   "execution_count": 81,
   "metadata": {
    "id": "y7gxPGmFDn_z"
   },
   "outputs": [],
   "source": [
    "l1=x_train_tfidf_all.columns\n"
   ]
  },
  {
   "cell_type": "code",
   "execution_count": 82,
   "metadata": {
    "id": "ECDkepkXDn_z"
   },
   "outputs": [],
   "source": [
    "#for i in l1:\n",
    "   # print(i)"
   ]
  },
  {
   "cell_type": "code",
   "execution_count": 83,
   "metadata": {
    "colab": {
     "base_uri": "https://localhost:8080/"
    },
    "id": "xVzCp192Dn_0",
    "outputId": "1ec1e881-fdb3-437d-cd72-18a9a241fb0e"
   },
   "outputs": [
    {
     "data": {
      "text/plain": [
       "4468"
      ]
     },
     "execution_count": 83,
     "metadata": {},
     "output_type": "execute_result"
    }
   ],
   "source": [
    "len(l1)"
   ]
  },
  {
   "cell_type": "markdown",
   "metadata": {
    "id": "SNhvyd1se8cm"
   },
   "source": [
    "Logistic Regression"
   ]
  },
  {
   "cell_type": "code",
   "execution_count": 86,
   "metadata": {
    "id": "cJbuxI9me7il"
   },
   "outputs": [],
   "source": [
    "from sklearn.linear_model import LogisticRegression\n",
    "\n",
    "lr = LogisticRegression()\n",
    "model1=lr.fit(x_train_tfidf_all, y_train)"
   ]
  },
  {
   "cell_type": "code",
   "execution_count": 89,
   "metadata": {
    "id": "zRmMAmD-fQff"
   },
   "outputs": [],
   "source": [
    "y_train_pred = lr.predict(x_train_tfidf_all)\n",
    "y_test_pred = lr.predict(x_test_tfidf_all)"
   ]
  },
  {
   "cell_type": "code",
   "execution_count": 90,
   "metadata": {
    "colab": {
     "base_uri": "https://localhost:8080/"
    },
    "id": "CD4hwwD5fS4_",
    "outputId": "369b1b9f-e3e0-4f90-b36e-e69c96958d33"
   },
   "outputs": [
    {
     "name": "stdout",
     "output_type": "stream",
     "text": [
      "0.7767857142857143\n"
     ]
    }
   ],
   "source": [
    "print(accuracy_score(y_test, y_test_pred))"
   ]
  },
  {
   "cell_type": "code",
   "execution_count": 91,
   "metadata": {
    "colab": {
     "base_uri": "https://localhost:8080/",
     "height": 35
    },
    "id": "a3NPz9cffb4L",
    "outputId": "46c8a22a-8097-478c-d3db-26a82b0dc97a"
   },
   "outputs": [
    {
     "data": {
      "application/vnd.google.colaboratory.intrinsic+json": {
       "type": "string"
      },
      "text/plain": [
       "'0.76'"
      ]
     },
     "execution_count": 91,
     "metadata": {},
     "output_type": "execute_result"
    }
   ],
   "source": [
    "\"{:2.2f}\".format(metrics.roc_auc_score(y_test, y_test_pred))"
   ]
  },
  {
   "cell_type": "code",
   "execution_count": 100,
   "metadata": {
    "colab": {
     "base_uri": "https://localhost:8080/"
    },
    "id": "uO7-uLOGD7kx",
    "outputId": "11e6385e-38f2-45b2-a7e1-18bc31f19936"
   },
   "outputs": [
    {
     "data": {
      "text/plain": [
       "array([[961, 125],\n",
       "       [300, 518]])"
      ]
     },
     "execution_count": 100,
     "metadata": {},
     "output_type": "execute_result"
    }
   ],
   "source": [
    "# confusion matrix\n",
    "cm=metrics.confusion_matrix(y_test, y_test_pred)\n",
    "cm"
   ]
  },
  {
   "cell_type": "code",
   "execution_count": 98,
   "metadata": {
    "colab": {
     "base_uri": "https://localhost:8080/"
    },
    "id": "-m0xzko3EGwJ",
    "outputId": "bc6c9b8d-c962-47f5-b84e-122c3fd2855e"
   },
   "outputs": [
    {
     "name": "stdout",
     "output_type": "stream",
     "text": [
      "              precision    recall  f1-score   support\n",
      "\n",
      "           0       0.76      0.88      0.82      1086\n",
      "           1       0.81      0.63      0.71       818\n",
      "\n",
      "    accuracy                           0.78      1904\n",
      "   macro avg       0.78      0.76      0.76      1904\n",
      "weighted avg       0.78      0.78      0.77      1904\n",
      "\n"
     ]
    }
   ],
   "source": [
    "print(classification_report(y_test,y_test_pred))"
   ]
  },
  {
   "cell_type": "markdown",
   "metadata": {
    "id": "QP7NJlh2Dn_0"
   },
   "source": [
    "### Decision Tree"
   ]
  },
  {
   "cell_type": "code",
   "execution_count": 92,
   "metadata": {
    "id": "WyEyA_GYDn_0"
   },
   "outputs": [],
   "source": [
    "from sklearn.tree import DecisionTreeClassifier"
   ]
  },
  {
   "cell_type": "code",
   "execution_count": 101,
   "metadata": {
    "colab": {
     "base_uri": "https://localhost:8080/"
    },
    "id": "Ig5lm-DMDn_0",
    "outputId": "b261cdd4-1abd-4547-8a49-6b629777e130"
   },
   "outputs": [
    {
     "data": {
      "text/plain": [
       "DecisionTreeClassifier()"
      ]
     },
     "execution_count": 101,
     "metadata": {},
     "output_type": "execute_result"
    }
   ],
   "source": [
    "dt = DecisionTreeClassifier()\n",
    "dt.fit(x_train_tfidf_all, y_train)"
   ]
  },
  {
   "cell_type": "code",
   "execution_count": 102,
   "metadata": {
    "id": "TC9ODXM7Dn_0"
   },
   "outputs": [],
   "source": [
    "y_train_pred = dt.predict(x_train_tfidf_all)\n",
    "y_test_pred = dt.predict(x_test_tfidf_all)"
   ]
  },
  {
   "cell_type": "code",
   "execution_count": 103,
   "metadata": {
    "id": "bav4KHntDn_0"
   },
   "outputs": [],
   "source": [
    "from sklearn.metrics import confusion_matrix, accuracy_score"
   ]
  },
  {
   "cell_type": "markdown",
   "metadata": {
    "id": "S-wOmOK2Dn_0"
   },
   "source": [
    "print(y_train_pred)\n",
    "print(y_test_pred)"
   ]
  },
  {
   "cell_type": "code",
   "execution_count": 104,
   "metadata": {
    "colab": {
     "base_uri": "https://localhost:8080/"
    },
    "id": "86TX3WdqDn_0",
    "outputId": "b38ca677-e44f-427b-93b9-ad1dde73dd29"
   },
   "outputs": [
    {
     "name": "stdout",
     "output_type": "stream",
     "text": [
      "0.7121848739495799\n"
     ]
    }
   ],
   "source": [
    "print(accuracy_score(y_test, y_test_pred))"
   ]
  },
  {
   "cell_type": "code",
   "execution_count": 105,
   "metadata": {
    "colab": {
     "base_uri": "https://localhost:8080/",
     "height": 35
    },
    "id": "z0vj8Ec5pZK_",
    "outputId": "3913be62-73df-4d8e-9343-1890a351ca33"
   },
   "outputs": [
    {
     "data": {
      "application/vnd.google.colaboratory.intrinsic+json": {
       "type": "string"
      },
      "text/plain": [
       "'0.70'"
      ]
     },
     "execution_count": 105,
     "metadata": {},
     "output_type": "execute_result"
    }
   ],
   "source": [
    "\"{:2.2f}\".format(metrics.roc_auc_score(y_test, y_test_pred))"
   ]
  },
  {
   "cell_type": "code",
   "execution_count": 106,
   "metadata": {
    "id": "WMVQQUhwDn_0"
   },
   "outputs": [],
   "source": [
    "dt = DecisionTreeClassifier(random_state=42)"
   ]
  },
  {
   "cell_type": "code",
   "execution_count": 107,
   "metadata": {
    "id": "nswBG_1cDn_0"
   },
   "outputs": [],
   "source": [
    "from sklearn.model_selection import GridSearchCV"
   ]
  },
  {
   "cell_type": "code",
   "execution_count": 108,
   "metadata": {
    "id": "WqTlJv81Dn_0"
   },
   "outputs": [],
   "source": [
    "# Create the parameter grid based on the results of random search \n",
    "params = {\n",
    "    'max_depth': [ 10, 20,30],\n",
    "    'min_samples_leaf': [5, 10, 20],\n",
    "    'criterion': [\"gini\", \"entropy\"]\n",
    "}"
   ]
  },
  {
   "cell_type": "code",
   "execution_count": 109,
   "metadata": {
    "id": "wNSsePD8Dn_0"
   },
   "outputs": [],
   "source": [
    "# Instantiate the grid search model\n",
    "grid_search = GridSearchCV(estimator=dt, \n",
    "                           param_grid=params, \n",
    "                           cv=4, n_jobs=-1, verbose=1, scoring = \"accuracy\")"
   ]
  },
  {
   "cell_type": "code",
   "execution_count": 110,
   "metadata": {
    "colab": {
     "base_uri": "https://localhost:8080/"
    },
    "id": "uMrvxcSvDn_0",
    "outputId": "7afe2d54-d411-4171-a2c3-655759a4f342"
   },
   "outputs": [
    {
     "name": "stdout",
     "output_type": "stream",
     "text": [
      "Fitting 4 folds for each of 18 candidates, totalling 72 fits\n"
     ]
    },
    {
     "data": {
      "text/plain": [
       "GridSearchCV(cv=4, estimator=DecisionTreeClassifier(random_state=42), n_jobs=-1,\n",
       "             param_grid={'criterion': ['gini', 'entropy'],\n",
       "                         'max_depth': [10, 20, 30],\n",
       "                         'min_samples_leaf': [5, 10, 20]},\n",
       "             scoring='accuracy', verbose=1)"
      ]
     },
     "execution_count": 110,
     "metadata": {},
     "output_type": "execute_result"
    }
   ],
   "source": [
    "grid_search.fit(x_train_tfidf_all, y_train)"
   ]
  },
  {
   "cell_type": "code",
   "execution_count": 111,
   "metadata": {
    "id": "gtWnYQZ_Dn_1"
   },
   "outputs": [],
   "source": [
    "score_df = pd.DataFrame(grid_search.cv_results_)\n"
   ]
  },
  {
   "cell_type": "code",
   "execution_count": 112,
   "metadata": {
    "colab": {
     "base_uri": "https://localhost:8080/",
     "height": 583
    },
    "id": "Ydmv37jDDn_1",
    "outputId": "a36c0b07-8721-4202-867e-eed1af924c7d"
   },
   "outputs": [
    {
     "data": {
      "text/html": [
       "\n",
       "  <div id=\"df-dbd78b5a-af98-449a-8df1-dbaea6a07fe3\">\n",
       "    <div class=\"colab-df-container\">\n",
       "      <div>\n",
       "<style scoped>\n",
       "    .dataframe tbody tr th:only-of-type {\n",
       "        vertical-align: middle;\n",
       "    }\n",
       "\n",
       "    .dataframe tbody tr th {\n",
       "        vertical-align: top;\n",
       "    }\n",
       "\n",
       "    .dataframe thead th {\n",
       "        text-align: right;\n",
       "    }\n",
       "</style>\n",
       "<table border=\"1\" class=\"dataframe\">\n",
       "  <thead>\n",
       "    <tr style=\"text-align: right;\">\n",
       "      <th></th>\n",
       "      <th>mean_fit_time</th>\n",
       "      <th>std_fit_time</th>\n",
       "      <th>mean_score_time</th>\n",
       "      <th>std_score_time</th>\n",
       "      <th>param_criterion</th>\n",
       "      <th>param_max_depth</th>\n",
       "      <th>param_min_samples_leaf</th>\n",
       "      <th>params</th>\n",
       "      <th>split0_test_score</th>\n",
       "      <th>split1_test_score</th>\n",
       "      <th>split2_test_score</th>\n",
       "      <th>split3_test_score</th>\n",
       "      <th>mean_test_score</th>\n",
       "      <th>std_test_score</th>\n",
       "      <th>rank_test_score</th>\n",
       "    </tr>\n",
       "  </thead>\n",
       "  <tbody>\n",
       "    <tr>\n",
       "      <th>7</th>\n",
       "      <td>9.427168</td>\n",
       "      <td>0.202240</td>\n",
       "      <td>0.075338</td>\n",
       "      <td>0.004573</td>\n",
       "      <td>gini</td>\n",
       "      <td>30</td>\n",
       "      <td>10</td>\n",
       "      <td>{'criterion': 'gini', 'max_depth': 30, 'min_sa...</td>\n",
       "      <td>0.714286</td>\n",
       "      <td>0.702172</td>\n",
       "      <td>0.704275</td>\n",
       "      <td>0.699369</td>\n",
       "      <td>0.705026</td>\n",
       "      <td>0.005622</td>\n",
       "      <td>1</td>\n",
       "    </tr>\n",
       "    <tr>\n",
       "      <th>16</th>\n",
       "      <td>9.565559</td>\n",
       "      <td>0.216204</td>\n",
       "      <td>0.081994</td>\n",
       "      <td>0.009891</td>\n",
       "      <td>entropy</td>\n",
       "      <td>30</td>\n",
       "      <td>10</td>\n",
       "      <td>{'criterion': 'entropy', 'max_depth': 30, 'min...</td>\n",
       "      <td>0.711485</td>\n",
       "      <td>0.697267</td>\n",
       "      <td>0.705676</td>\n",
       "      <td>0.697267</td>\n",
       "      <td>0.702924</td>\n",
       "      <td>0.006018</td>\n",
       "      <td>2</td>\n",
       "    </tr>\n",
       "    <tr>\n",
       "      <th>6</th>\n",
       "      <td>9.466694</td>\n",
       "      <td>0.145282</td>\n",
       "      <td>0.079484</td>\n",
       "      <td>0.001958</td>\n",
       "      <td>gini</td>\n",
       "      <td>30</td>\n",
       "      <td>5</td>\n",
       "      <td>{'criterion': 'gini', 'max_depth': 30, 'min_sa...</td>\n",
       "      <td>0.712185</td>\n",
       "      <td>0.696566</td>\n",
       "      <td>0.700771</td>\n",
       "      <td>0.697968</td>\n",
       "      <td>0.701872</td>\n",
       "      <td>0.006143</td>\n",
       "      <td>3</td>\n",
       "    </tr>\n",
       "    <tr>\n",
       "      <th>15</th>\n",
       "      <td>9.618762</td>\n",
       "      <td>0.204590</td>\n",
       "      <td>0.078848</td>\n",
       "      <td>0.001761</td>\n",
       "      <td>entropy</td>\n",
       "      <td>30</td>\n",
       "      <td>5</td>\n",
       "      <td>{'criterion': 'entropy', 'max_depth': 30, 'min...</td>\n",
       "      <td>0.710784</td>\n",
       "      <td>0.696566</td>\n",
       "      <td>0.702873</td>\n",
       "      <td>0.696566</td>\n",
       "      <td>0.701697</td>\n",
       "      <td>0.005844</td>\n",
       "      <td>4</td>\n",
       "    </tr>\n",
       "    <tr>\n",
       "      <th>8</th>\n",
       "      <td>9.698554</td>\n",
       "      <td>0.510112</td>\n",
       "      <td>0.076544</td>\n",
       "      <td>0.001870</td>\n",
       "      <td>gini</td>\n",
       "      <td>30</td>\n",
       "      <td>20</td>\n",
       "      <td>{'criterion': 'gini', 'max_depth': 30, 'min_sa...</td>\n",
       "      <td>0.705182</td>\n",
       "      <td>0.693763</td>\n",
       "      <td>0.694464</td>\n",
       "      <td>0.711983</td>\n",
       "      <td>0.701348</td>\n",
       "      <td>0.007628</td>\n",
       "      <td>5</td>\n",
       "    </tr>\n",
       "  </tbody>\n",
       "</table>\n",
       "</div>\n",
       "      <button class=\"colab-df-convert\" onclick=\"convertToInteractive('df-dbd78b5a-af98-449a-8df1-dbaea6a07fe3')\"\n",
       "              title=\"Convert this dataframe to an interactive table.\"\n",
       "              style=\"display:none;\">\n",
       "        \n",
       "  <svg xmlns=\"http://www.w3.org/2000/svg\" height=\"24px\"viewBox=\"0 0 24 24\"\n",
       "       width=\"24px\">\n",
       "    <path d=\"M0 0h24v24H0V0z\" fill=\"none\"/>\n",
       "    <path d=\"M18.56 5.44l.94 2.06.94-2.06 2.06-.94-2.06-.94-.94-2.06-.94 2.06-2.06.94zm-11 1L8.5 8.5l.94-2.06 2.06-.94-2.06-.94L8.5 2.5l-.94 2.06-2.06.94zm10 10l.94 2.06.94-2.06 2.06-.94-2.06-.94-.94-2.06-.94 2.06-2.06.94z\"/><path d=\"M17.41 7.96l-1.37-1.37c-.4-.4-.92-.59-1.43-.59-.52 0-1.04.2-1.43.59L10.3 9.45l-7.72 7.72c-.78.78-.78 2.05 0 2.83L4 21.41c.39.39.9.59 1.41.59.51 0 1.02-.2 1.41-.59l7.78-7.78 2.81-2.81c.8-.78.8-2.07 0-2.86zM5.41 20L4 18.59l7.72-7.72 1.47 1.35L5.41 20z\"/>\n",
       "  </svg>\n",
       "      </button>\n",
       "      \n",
       "  <style>\n",
       "    .colab-df-container {\n",
       "      display:flex;\n",
       "      flex-wrap:wrap;\n",
       "      gap: 12px;\n",
       "    }\n",
       "\n",
       "    .colab-df-convert {\n",
       "      background-color: #E8F0FE;\n",
       "      border: none;\n",
       "      border-radius: 50%;\n",
       "      cursor: pointer;\n",
       "      display: none;\n",
       "      fill: #1967D2;\n",
       "      height: 32px;\n",
       "      padding: 0 0 0 0;\n",
       "      width: 32px;\n",
       "    }\n",
       "\n",
       "    .colab-df-convert:hover {\n",
       "      background-color: #E2EBFA;\n",
       "      box-shadow: 0px 1px 2px rgba(60, 64, 67, 0.3), 0px 1px 3px 1px rgba(60, 64, 67, 0.15);\n",
       "      fill: #174EA6;\n",
       "    }\n",
       "\n",
       "    [theme=dark] .colab-df-convert {\n",
       "      background-color: #3B4455;\n",
       "      fill: #D2E3FC;\n",
       "    }\n",
       "\n",
       "    [theme=dark] .colab-df-convert:hover {\n",
       "      background-color: #434B5C;\n",
       "      box-shadow: 0px 1px 3px 1px rgba(0, 0, 0, 0.15);\n",
       "      filter: drop-shadow(0px 1px 2px rgba(0, 0, 0, 0.3));\n",
       "      fill: #FFFFFF;\n",
       "    }\n",
       "  </style>\n",
       "\n",
       "      <script>\n",
       "        const buttonEl =\n",
       "          document.querySelector('#df-dbd78b5a-af98-449a-8df1-dbaea6a07fe3 button.colab-df-convert');\n",
       "        buttonEl.style.display =\n",
       "          google.colab.kernel.accessAllowed ? 'block' : 'none';\n",
       "\n",
       "        async function convertToInteractive(key) {\n",
       "          const element = document.querySelector('#df-dbd78b5a-af98-449a-8df1-dbaea6a07fe3');\n",
       "          const dataTable =\n",
       "            await google.colab.kernel.invokeFunction('convertToInteractive',\n",
       "                                                     [key], {});\n",
       "          if (!dataTable) return;\n",
       "\n",
       "          const docLinkHtml = 'Like what you see? Visit the ' +\n",
       "            '<a target=\"_blank\" href=https://colab.research.google.com/notebooks/data_table.ipynb>data table notebook</a>'\n",
       "            + ' to learn more about interactive tables.';\n",
       "          element.innerHTML = '';\n",
       "          dataTable['output_type'] = 'display_data';\n",
       "          await google.colab.output.renderOutput(dataTable, element);\n",
       "          const docLink = document.createElement('div');\n",
       "          docLink.innerHTML = docLinkHtml;\n",
       "          element.appendChild(docLink);\n",
       "        }\n",
       "      </script>\n",
       "    </div>\n",
       "  </div>\n",
       "  "
      ],
      "text/plain": [
       "    mean_fit_time  std_fit_time  mean_score_time  std_score_time  \\\n",
       "7        9.427168      0.202240         0.075338        0.004573   \n",
       "16       9.565559      0.216204         0.081994        0.009891   \n",
       "6        9.466694      0.145282         0.079484        0.001958   \n",
       "15       9.618762      0.204590         0.078848        0.001761   \n",
       "8        9.698554      0.510112         0.076544        0.001870   \n",
       "\n",
       "   param_criterion param_max_depth param_min_samples_leaf  \\\n",
       "7             gini              30                     10   \n",
       "16         entropy              30                     10   \n",
       "6             gini              30                      5   \n",
       "15         entropy              30                      5   \n",
       "8             gini              30                     20   \n",
       "\n",
       "                                               params  split0_test_score  \\\n",
       "7   {'criterion': 'gini', 'max_depth': 30, 'min_sa...           0.714286   \n",
       "16  {'criterion': 'entropy', 'max_depth': 30, 'min...           0.711485   \n",
       "6   {'criterion': 'gini', 'max_depth': 30, 'min_sa...           0.712185   \n",
       "15  {'criterion': 'entropy', 'max_depth': 30, 'min...           0.710784   \n",
       "8   {'criterion': 'gini', 'max_depth': 30, 'min_sa...           0.705182   \n",
       "\n",
       "    split1_test_score  split2_test_score  split3_test_score  mean_test_score  \\\n",
       "7            0.702172           0.704275           0.699369         0.705026   \n",
       "16           0.697267           0.705676           0.697267         0.702924   \n",
       "6            0.696566           0.700771           0.697968         0.701872   \n",
       "15           0.696566           0.702873           0.696566         0.701697   \n",
       "8            0.693763           0.694464           0.711983         0.701348   \n",
       "\n",
       "    std_test_score  rank_test_score  \n",
       "7         0.005622                1  \n",
       "16        0.006018                2  \n",
       "6         0.006143                3  \n",
       "15        0.005844                4  \n",
       "8         0.007628                5  "
      ]
     },
     "execution_count": 112,
     "metadata": {},
     "output_type": "execute_result"
    }
   ],
   "source": [
    "score_df.nlargest(5,\"mean_test_score\")"
   ]
  },
  {
   "cell_type": "code",
   "execution_count": 113,
   "metadata": {
    "colab": {
     "base_uri": "https://localhost:8080/"
    },
    "id": "A-zr9FVEDn_1",
    "outputId": "1e4ec01f-8da5-4f1d-a181-a71e74859ecc"
   },
   "outputs": [
    {
     "data": {
      "text/plain": [
       "DecisionTreeClassifier(max_depth=30, min_samples_leaf=10, random_state=42)"
      ]
     },
     "execution_count": 113,
     "metadata": {},
     "output_type": "execute_result"
    }
   ],
   "source": [
    "grid_search.best_estimator_"
   ]
  },
  {
   "cell_type": "code",
   "execution_count": 114,
   "metadata": {
    "id": "zVVJONo4Dn_1"
   },
   "outputs": [],
   "source": [
    "dt_best = grid_search.best_estimator_"
   ]
  },
  {
   "cell_type": "code",
   "execution_count": 115,
   "metadata": {
    "id": "QlmGn7w9Dn_1"
   },
   "outputs": [],
   "source": [
    "dt = DecisionTreeClassifier(max_depth=30, min_samples_leaf=10)"
   ]
  },
  {
   "cell_type": "code",
   "execution_count": 116,
   "metadata": {
    "colab": {
     "base_uri": "https://localhost:8080/"
    },
    "id": "__JhBjFzDn_1",
    "outputId": "092fc8f3-3bd8-4bd9-b012-93198123d10a"
   },
   "outputs": [
    {
     "data": {
      "text/plain": [
       "DecisionTreeClassifier(max_depth=30, min_samples_leaf=10)"
      ]
     },
     "execution_count": 116,
     "metadata": {},
     "output_type": "execute_result"
    }
   ],
   "source": [
    "dt.fit(x_train_tfidf_all, y_train)"
   ]
  },
  {
   "cell_type": "code",
   "execution_count": 142,
   "metadata": {
    "id": "EHdLL_foDn_1"
   },
   "outputs": [],
   "source": [
    "y_train_pred = dt.predict(x_train_tfidf_all)\n",
    "y_test_pred = dt.predict(x_test_tfidf_all)"
   ]
  },
  {
   "cell_type": "code",
   "execution_count": 143,
   "metadata": {
    "colab": {
     "base_uri": "https://localhost:8080/"
    },
    "id": "-EfOcvlcDn_1",
    "outputId": "f7942bfc-f380-4f3d-b64b-b54820af8839"
   },
   "outputs": [
    {
     "name": "stdout",
     "output_type": "stream",
     "text": [
      "0.6990546218487395\n"
     ]
    }
   ],
   "source": [
    "print(accuracy_score(y_test, y_test_pred))"
   ]
  },
  {
   "cell_type": "code",
   "execution_count": 144,
   "metadata": {
    "colab": {
     "base_uri": "https://localhost:8080/",
     "height": 35
    },
    "id": "oabVoWOHstwX",
    "outputId": "9340df0f-6504-4fc6-c411-36dbe8ef9eb4"
   },
   "outputs": [
    {
     "data": {
      "application/vnd.google.colaboratory.intrinsic+json": {
       "type": "string"
      },
      "text/plain": [
       "'0.66'"
      ]
     },
     "execution_count": 144,
     "metadata": {},
     "output_type": "execute_result"
    }
   ],
   "source": [
    "\"{:2.2f}\".format(metrics.roc_auc_score(y_test, y_test_pred))"
   ]
  },
  {
   "cell_type": "code",
   "execution_count": 145,
   "metadata": {
    "colab": {
     "base_uri": "https://localhost:8080/"
    },
    "id": "bk6Brr3DRnRK",
    "outputId": "c13f1a04-28cf-433c-8708-2679a9b0aa97"
   },
   "outputs": [
    {
     "data": {
      "text/plain": [
       "array([[1011,   75],\n",
       "       [ 498,  320]])"
      ]
     },
     "execution_count": 145,
     "metadata": {},
     "output_type": "execute_result"
    }
   ],
   "source": [
    "cm=metrics.confusion_matrix(y_test, y_test_pred)\n",
    "cm"
   ]
  },
  {
   "cell_type": "code",
   "execution_count": 146,
   "metadata": {
    "colab": {
     "base_uri": "https://localhost:8080/"
    },
    "id": "GmBvxD8hRsX0",
    "outputId": "b3b1fa19-8b2b-4221-98f5-f7b704e8f7e1"
   },
   "outputs": [
    {
     "name": "stdout",
     "output_type": "stream",
     "text": [
      "              precision    recall  f1-score   support\n",
      "\n",
      "           0       0.67      0.93      0.78      1086\n",
      "           1       0.81      0.39      0.53       818\n",
      "\n",
      "    accuracy                           0.70      1904\n",
      "   macro avg       0.74      0.66      0.65      1904\n",
      "weighted avg       0.73      0.70      0.67      1904\n",
      "\n"
     ]
    }
   ],
   "source": [
    "print(classification_report(y_test,y_test_pred))"
   ]
  },
  {
   "cell_type": "markdown",
   "metadata": {
    "id": "V4PjcRsgDn_1"
   },
   "source": [
    "### Random Forest"
   ]
  },
  {
   "cell_type": "code",
   "execution_count": 129,
   "metadata": {
    "id": "Y4ARguGtDn_1"
   },
   "outputs": [],
   "source": [
    "from sklearn.ensemble import RandomForestClassifier"
   ]
  },
  {
   "cell_type": "code",
   "execution_count": 130,
   "metadata": {
    "id": "EZ_daJH_Dn_1"
   },
   "outputs": [],
   "source": [
    "classifier_rf = RandomForestClassifier(n_jobs=-1)"
   ]
  },
  {
   "cell_type": "code",
   "execution_count": 131,
   "metadata": {
    "colab": {
     "base_uri": "https://localhost:8080/"
    },
    "id": "UnVV6BH9Dn_1",
    "outputId": "2b3e6fd3-4a65-45c0-c2f6-03055999b3d2"
   },
   "outputs": [
    {
     "data": {
      "text/plain": [
       "RandomForestClassifier(n_jobs=-1)"
      ]
     },
     "execution_count": 131,
     "metadata": {},
     "output_type": "execute_result"
    }
   ],
   "source": [
    "classifier_rf.fit(x_train_tfidf_all, y_train)"
   ]
  },
  {
   "cell_type": "code",
   "execution_count": 132,
   "metadata": {
    "colab": {
     "base_uri": "https://localhost:8080/"
    },
    "id": "ndlrTo1wDn_1",
    "outputId": "02c68e81-d9ed-43f6-f514-84b1c332b840"
   },
   "outputs": [
    {
     "data": {
      "text/plain": [
       "DecisionTreeClassifier(max_features='auto', random_state=312185853)"
      ]
     },
     "execution_count": 132,
     "metadata": {},
     "output_type": "execute_result"
    }
   ],
   "source": [
    "classifier_rf.estimators_[0]"
   ]
  },
  {
   "cell_type": "code",
   "execution_count": 133,
   "metadata": {
    "id": "GdVb57GrDn_2"
   },
   "outputs": [],
   "source": [
    "y_train_pred = classifier_rf.predict(x_train_tfidf_all)\n",
    "y_test_pred = classifier_rf.predict(x_test_tfidf_all)"
   ]
  },
  {
   "cell_type": "code",
   "execution_count": 134,
   "metadata": {
    "colab": {
     "base_uri": "https://localhost:8080/"
    },
    "id": "Qw94JoBDDn_2",
    "outputId": "9d3de90c-4c0f-4235-e091-3c73082d19b6"
   },
   "outputs": [
    {
     "name": "stdout",
     "output_type": "stream",
     "text": [
      "0.7599789915966386\n"
     ]
    }
   ],
   "source": [
    "print(accuracy_score(y_test, y_test_pred))"
   ]
  },
  {
   "cell_type": "code",
   "execution_count": 135,
   "metadata": {
    "id": "GOzPR0G6Dn_2"
   },
   "outputs": [],
   "source": [
    "# Create the parameter grid based on the results of random search \n",
    "params = {\n",
    "    'min_samples_split': [4,6],\n",
    "    'min_samples_leaf': [3,5],\n",
    "    'n_estimators': [ 100,120]\n",
    "}"
   ]
  },
  {
   "cell_type": "code",
   "execution_count": 136,
   "metadata": {
    "id": "SJTSK8N2Dn_2"
   },
   "outputs": [],
   "source": [
    "# Instantiate the grid search model\n",
    "grid_search = GridSearchCV(estimator=classifier_rf, param_grid=params, \n",
    "                          cv=4, n_jobs=-1, verbose=1, scoring = \"accuracy\")"
   ]
  },
  {
   "cell_type": "code",
   "execution_count": 139,
   "metadata": {
    "colab": {
     "base_uri": "https://localhost:8080/"
    },
    "id": "kFedotfEDn_2",
    "outputId": "f0b64e77-50b3-44a7-9278-fd93e934d5be"
   },
   "outputs": [
    {
     "name": "stdout",
     "output_type": "stream",
     "text": [
      "Fitting 4 folds for each of 8 candidates, totalling 32 fits\n",
      "CPU times: user 2min 1s, sys: 897 ms, total: 2min 2s\n",
      "Wall time: 11min\n"
     ]
    },
    {
     "data": {
      "text/plain": [
       "GridSearchCV(cv=4, estimator=RandomForestClassifier(n_jobs=-1), n_jobs=-1,\n",
       "             param_grid={'min_samples_leaf': [3, 5],\n",
       "                         'min_samples_split': [4, 6],\n",
       "                         'n_estimators': [100, 120]},\n",
       "             scoring='accuracy', verbose=1)"
      ]
     },
     "execution_count": 139,
     "metadata": {},
     "output_type": "execute_result"
    }
   ],
   "source": [
    "%%time\n",
    "grid_search.fit(x_train_tfidf_all,y_train)"
   ]
  },
  {
   "cell_type": "code",
   "execution_count": 140,
   "metadata": {
    "colab": {
     "base_uri": "https://localhost:8080/"
    },
    "id": "W17VKe6gDn_2",
    "outputId": "f02562d7-cd15-4b6b-97cb-0fff77e8849a"
   },
   "outputs": [
    {
     "data": {
      "text/plain": [
       "RandomForestClassifier(min_samples_leaf=3, min_samples_split=6,\n",
       "                       n_estimators=120, n_jobs=-1)"
      ]
     },
     "execution_count": 140,
     "metadata": {},
     "output_type": "execute_result"
    }
   ],
   "source": [
    "grid_search.best_estimator_"
   ]
  },
  {
   "cell_type": "code",
   "execution_count": 147,
   "metadata": {
    "id": "3kOyRuKADn_2"
   },
   "outputs": [],
   "source": [
    "classifier_rf = RandomForestClassifier(min_samples_split=6, min_samples_leaf=3, n_estimators=120,\n",
    "                       n_jobs=-1, random_state=42)"
   ]
  },
  {
   "cell_type": "code",
   "execution_count": 148,
   "metadata": {
    "colab": {
     "base_uri": "https://localhost:8080/"
    },
    "id": "WphPhBCDDn_2",
    "outputId": "d3e335a0-643e-4302-c4a8-d710e683a6e0"
   },
   "outputs": [
    {
     "data": {
      "text/plain": [
       "RandomForestClassifier(min_samples_leaf=3, min_samples_split=6,\n",
       "                       n_estimators=120, n_jobs=-1, random_state=42)"
      ]
     },
     "execution_count": 148,
     "metadata": {},
     "output_type": "execute_result"
    }
   ],
   "source": [
    "classifier_rf.fit(x_train_tfidf_all, y_train)"
   ]
  },
  {
   "cell_type": "code",
   "execution_count": 149,
   "metadata": {
    "id": "bxTic1nrDn_2"
   },
   "outputs": [],
   "source": [
    "y_train_pred = classifier_rf.predict(x_train_tfidf_all)\n",
    "y_test_pred = classifier_rf.predict(x_test_tfidf_all)"
   ]
  },
  {
   "cell_type": "code",
   "execution_count": 150,
   "metadata": {
    "colab": {
     "base_uri": "https://localhost:8080/"
    },
    "id": "5HqhJ4kRDn_2",
    "outputId": "f7814ae1-d32c-4b0f-d24d-279441944bbb"
   },
   "outputs": [
    {
     "name": "stdout",
     "output_type": "stream",
     "text": [
      "0.7584033613445378\n"
     ]
    }
   ],
   "source": [
    "print(accuracy_score(y_test, y_test_pred))"
   ]
  },
  {
   "cell_type": "code",
   "execution_count": 151,
   "metadata": {
    "colab": {
     "base_uri": "https://localhost:8080/",
     "height": 35
    },
    "id": "AzAs6JdH3gqX",
    "outputId": "445f5643-6a92-4bdd-c3da-0dc23ead0c33"
   },
   "outputs": [
    {
     "data": {
      "application/vnd.google.colaboratory.intrinsic+json": {
       "type": "string"
      },
      "text/plain": [
       "'0.75'"
      ]
     },
     "execution_count": 151,
     "metadata": {},
     "output_type": "execute_result"
    }
   ],
   "source": [
    "\"{:2.2f}\".format(metrics.roc_auc_score(y_test, y_test_pred))"
   ]
  },
  {
   "cell_type": "code",
   "execution_count": 152,
   "metadata": {
    "colab": {
     "base_uri": "https://localhost:8080/"
    },
    "id": "Ie_IJtDvDn_3",
    "outputId": "d69128cb-115e-4725-b2d5-98f192b7bff3"
   },
   "outputs": [
    {
     "data": {
      "text/plain": [
       "array([[912, 174],\n",
       "       [286, 532]])"
      ]
     },
     "execution_count": 152,
     "metadata": {},
     "output_type": "execute_result"
    }
   ],
   "source": [
    "# confusion matrix\n",
    "cm=metrics.confusion_matrix(y_test, y_test_pred)\n",
    "cm"
   ]
  },
  {
   "cell_type": "code",
   "execution_count": 153,
   "metadata": {
    "colab": {
     "base_uri": "https://localhost:8080/"
    },
    "id": "QNbbX7aXDn_3",
    "outputId": "2fba099e-2e0a-4877-b8f5-88c820110c29"
   },
   "outputs": [
    {
     "name": "stdout",
     "output_type": "stream",
     "text": [
      "              precision    recall  f1-score   support\n",
      "\n",
      "           0       0.76      0.84      0.80      1086\n",
      "           1       0.75      0.65      0.70       818\n",
      "\n",
      "    accuracy                           0.76      1904\n",
      "   macro avg       0.76      0.75      0.75      1904\n",
      "weighted avg       0.76      0.76      0.76      1904\n",
      "\n"
     ]
    }
   ],
   "source": [
    "print(classification_report(y_test,y_test_pred))"
   ]
  },
  {
   "cell_type": "markdown",
   "metadata": {
    "id": "BR5XhYSqDn_3"
   },
   "source": [
    "### XGboost"
   ]
  },
  {
   "cell_type": "code",
   "execution_count": 154,
   "metadata": {
    "id": "tJfVzis-Dn_3"
   },
   "outputs": [],
   "source": [
    "from sklearn.ensemble import RandomForestClassifier, GradientBoostingClassifier\n",
    "from sklearn.linear_model import LogisticRegression\n",
    "from sklearn.metrics import accuracy_score, log_loss\n",
    "#from imblearn.over_sampling import SMOTE\n",
    "\n",
    "import xgboost as xgb  # Load this xgboost\n",
    "\n",
    "from sklearn.model_selection import train_test_split\n",
    "\n",
    "\n",
    "# Import and suppress warnings\n",
    "import warnings\n",
    "warnings.filterwarnings('ignore')\n",
    "\n",
    "\n",
    "from sklearn.model_selection import GridSearchCV, RandomizedSearchCV, cross_val_score, learning_curve, train_test_split\n",
    "\n"
   ]
  },
  {
   "cell_type": "code",
   "execution_count": null,
   "metadata": {
    "id": "Hm58m_wbDn_3"
   },
   "outputs": [],
   "source": [
    "#pip install xgboost\n"
   ]
  },
  {
   "cell_type": "code",
   "execution_count": 155,
   "metadata": {
    "colab": {
     "base_uri": "https://localhost:8080/"
    },
    "id": "uN_fJjlYDn_3",
    "outputId": "0bdf836b-f840-4a1f-db75-b0eda14f08d3"
   },
   "outputs": [
    {
     "data": {
      "text/plain": [
       "XGBClassifier()"
      ]
     },
     "execution_count": 155,
     "metadata": {},
     "output_type": "execute_result"
    }
   ],
   "source": [
    "xgb_cfl = xgb.XGBClassifier()\n",
    "\n",
    "xgb_cfl.fit(x_train_tfidf_all, y_train)\n"
   ]
  },
  {
   "cell_type": "code",
   "execution_count": 156,
   "metadata": {
    "id": "TVg4aE2fwsbH"
   },
   "outputs": [],
   "source": [
    "y_train_pred = xgb_cfl.predict(x_train_tfidf_all)\n",
    "y_test_pred = xgb_cfl.predict(x_test_tfidf_all)"
   ]
  },
  {
   "cell_type": "code",
   "execution_count": 157,
   "metadata": {
    "colab": {
     "base_uri": "https://localhost:8080/"
    },
    "id": "G2RYX0RGwxnI",
    "outputId": "da6a53b9-3fb5-41d7-b442-78e6dd505176"
   },
   "outputs": [
    {
     "name": "stdout",
     "output_type": "stream",
     "text": [
      "0.7090336134453782\n"
     ]
    }
   ],
   "source": [
    "print(accuracy_score(y_test, y_test_pred))"
   ]
  },
  {
   "cell_type": "code",
   "execution_count": 158,
   "metadata": {
    "colab": {
     "base_uri": "https://localhost:8080/",
     "height": 35
    },
    "id": "o-msdMUjw0nV",
    "outputId": "fa59f0d6-20ee-4b25-e240-98034cff9583"
   },
   "outputs": [
    {
     "data": {
      "application/vnd.google.colaboratory.intrinsic+json": {
       "type": "string"
      },
      "text/plain": [
       "'0.67'"
      ]
     },
     "execution_count": 158,
     "metadata": {},
     "output_type": "execute_result"
    }
   ],
   "source": [
    "\"{:2.2f}\".format(metrics.roc_auc_score(y_test, y_test_pred))"
   ]
  },
  {
   "cell_type": "code",
   "execution_count": null,
   "metadata": {
    "id": "aYj_zSc0w-Y4"
   },
   "outputs": [],
   "source": []
  },
  {
   "cell_type": "code",
   "execution_count": 159,
   "metadata": {
    "id": "_Tt8k1b4Dn_3"
   },
   "outputs": [],
   "source": [
    "params={\n",
    " \"learning_rate\"    : [0.05, 0.10, 0.15, 0.20, 0.25, 0.30 ] ,\n",
    " \"max_depth\"        : [ 4, 6, 8, 10, 12],\n",
    " \"min_child_weight\" : [ 1, 3, 5, 7 ],\n",
    " \"gamma\"            : [ 0.0, 0.1, 0.2 , 0.3, 0.4 ],\n",
    " \"colsample_bytree\" : [ 0.3, 0.4, 0.5 , 0.7 ],\n",
    " \"n_estimators\":[50,100,150,200],\n",
    " \"reg_alpha\":[0, 0.001, 0.005, 0.01, 0.05]    \n",
    "}"
   ]
  },
  {
   "cell_type": "code",
   "execution_count": 160,
   "metadata": {
    "id": "Tk99dbFoDn_3"
   },
   "outputs": [],
   "source": [
    "random_search=RandomizedSearchCV(xgb_cfl,param_distributions=params,n_iter=5,scoring='roc_auc',n_jobs=-1,cv=5,verbose=3)\n",
    "\n"
   ]
  },
  {
   "cell_type": "code",
   "execution_count": 165,
   "metadata": {
    "colab": {
     "base_uri": "https://localhost:8080/"
    },
    "id": "crWdj2L3Dn_4",
    "outputId": "3d23a304-3ebc-4eac-c8b8-37cc789cc7c5"
   },
   "outputs": [
    {
     "metadata": {
      "tags": null
     },
     "name": "stdout",
     "output_type": "stream",
     "text": [
      "Fitting 5 folds for each of 5 candidates, totalling 25 fits\n"
     ]
    },
    {
     "data": {
      "text/plain": [
       "RandomizedSearchCV(cv=5, estimator=XGBClassifier(), n_iter=5, n_jobs=-1,\n",
       "                   param_distributions={'colsample_bytree': [0.3, 0.4, 0.5,\n",
       "                                                             0.7],\n",
       "                                        'gamma': [0.0, 0.1, 0.2, 0.3, 0.4],\n",
       "                                        'learning_rate': [0.05, 0.1, 0.15, 0.2,\n",
       "                                                          0.25, 0.3],\n",
       "                                        'max_depth': [4, 6, 8, 10, 12],\n",
       "                                        'min_child_weight': [1, 3, 5, 7],\n",
       "                                        'n_estimators': [50, 100, 150, 200],\n",
       "                                        'reg_alpha': [0, 0.001, 0.005, 0.01,\n",
       "                                                      0.05]},\n",
       "                   scoring='roc_auc', verbose=3)"
      ]
     },
     "execution_count": 165,
     "metadata": {},
     "output_type": "execute_result"
    }
   ],
   "source": [
    "random_search.fit(x_train_tfidf_all, y_train)"
   ]
  },
  {
   "cell_type": "code",
   "execution_count": 163,
   "metadata": {
    "colab": {
     "base_uri": "https://localhost:8080/"
    },
    "id": "KvnVIc1bDn_4",
    "outputId": "804601b8-6f6e-46e3-e012-cab7a54844c2"
   },
   "outputs": [
    {
     "data": {
      "text/plain": [
       "XGBClassifier(colsample_bytree=0.7, gamma=0.4, learning_rate=0.3, max_depth=4,\n",
       "              n_estimators=200, reg_alpha=0.001)"
      ]
     },
     "execution_count": 163,
     "metadata": {},
     "output_type": "execute_result"
    }
   ],
   "source": [
    "random_search.best_estimator_"
   ]
  },
  {
   "cell_type": "code",
   "execution_count": 167,
   "metadata": {
    "id": "6bUhqtyA7vyh"
   },
   "outputs": [],
   "source": [
    "xgb_cfl = xgb.XGBClassifier(colsample_bytree=0.7, gamma=0.4, learning_rate=0.3, max_depth=4,\n",
    "              n_estimators=200, reg_alpha=0.001)\n",
    "\n"
   ]
  },
  {
   "cell_type": "code",
   "execution_count": 168,
   "metadata": {
    "colab": {
     "base_uri": "https://localhost:8080/"
    },
    "id": "KI1ZJeHq77mm",
    "outputId": "9ad8c8ea-58ee-45f3-d0f7-d689143c8fb1"
   },
   "outputs": [
    {
     "data": {
      "text/plain": [
       "XGBClassifier(colsample_bytree=0.7, gamma=0.4, learning_rate=0.3, max_depth=4,\n",
       "              n_estimators=200, reg_alpha=0.001)"
      ]
     },
     "execution_count": 168,
     "metadata": {},
     "output_type": "execute_result"
    }
   ],
   "source": [
    "xgb_cfl.fit(x_train_tfidf_all, y_train)"
   ]
  },
  {
   "cell_type": "code",
   "execution_count": 169,
   "metadata": {
    "id": "CFdASjhJ7--G"
   },
   "outputs": [],
   "source": [
    "y_train_pred = xgb_cfl.predict(x_train_tfidf_all)\n",
    "y_test_pred = xgb_cfl.predict(x_test_tfidf_all)"
   ]
  },
  {
   "cell_type": "code",
   "execution_count": 170,
   "metadata": {
    "colab": {
     "base_uri": "https://localhost:8080/"
    },
    "id": "xu4Vc7rD-lTf",
    "outputId": "bdb14f33-d152-49ee-a8a2-151445a3138b"
   },
   "outputs": [
    {
     "name": "stdout",
     "output_type": "stream",
     "text": [
      "0.75\n"
     ]
    }
   ],
   "source": [
    "print(accuracy_score(y_test, y_test_pred))"
   ]
  },
  {
   "cell_type": "code",
   "execution_count": 171,
   "metadata": {
    "colab": {
     "base_uri": "https://localhost:8080/",
     "height": 35
    },
    "id": "dDr2gVDi-oo-",
    "outputId": "64f0aa58-142d-4b82-ea0b-ed7052d385b0"
   },
   "outputs": [
    {
     "data": {
      "application/vnd.google.colaboratory.intrinsic+json": {
       "type": "string"
      },
      "text/plain": [
       "'0.73'"
      ]
     },
     "execution_count": 171,
     "metadata": {},
     "output_type": "execute_result"
    }
   ],
   "source": [
    "\"{:2.2f}\".format(metrics.roc_auc_score(y_test, y_test_pred))"
   ]
  },
  {
   "cell_type": "code",
   "execution_count": null,
   "metadata": {
    "id": "KDSRb9t7KDpS"
   },
   "outputs": [],
   "source": [
    "# confusion matrix\n",
    "cm=metrics.confusion_matrix(y_test, y_test_pred)\n",
    "cm"
   ]
  },
  {
   "cell_type": "code",
   "execution_count": null,
   "metadata": {
    "id": "WTHeaLUw08Qf"
   },
   "outputs": [],
   "source": [
    "print(classification_report(y_test,y_test_pred))"
   ]
  },
  {
   "cell_type": "markdown",
   "metadata": {
    "id": "4IG1yI1ZKH20"
   },
   "source": [
    "Voting Classifier"
   ]
  },
  {
   "cell_type": "code",
   "execution_count": 175,
   "metadata": {
    "id": "w1x28Pvb-tkv"
   },
   "outputs": [],
   "source": [
    "from sklearn.ensemble import VotingClassifier\n",
    "from sklearn.ensemble import AdaBoostClassifier\n",
    "clf1 = AdaBoostClassifier()\n",
    "clf2 = LogisticRegression(max_iter=2000,penalty='l2')\n",
    "\n",
    "vc = VotingClassifier(estimators=[('ada', clf1),('lr', clf2),('RF', classifier_rf)], voting='soft')\n",
    "model_vc=vc.fit(x_train_tfidf_all, y_train)"
   ]
  },
  {
   "cell_type": "code",
   "execution_count": 176,
   "metadata": {
    "id": "fO7GESC7Jr6_"
   },
   "outputs": [],
   "source": [
    "y_train_pred = model_vc.predict(x_train_tfidf_all)\n",
    "y_test_pred = model_vc.predict(x_test_tfidf_all)"
   ]
  },
  {
   "cell_type": "code",
   "execution_count": 177,
   "metadata": {
    "colab": {
     "base_uri": "https://localhost:8080/",
     "height": 35
    },
    "id": "1PFP1GYrJ37w",
    "outputId": "d581b89c-27c8-4e60-e163-069b0ccb025d"
   },
   "outputs": [
    {
     "data": {
      "application/vnd.google.colaboratory.intrinsic+json": {
       "type": "string"
      },
      "text/plain": [
       "'0.76'"
      ]
     },
     "execution_count": 177,
     "metadata": {},
     "output_type": "execute_result"
    }
   ],
   "source": [
    "\"{:2.2f}\".format(metrics.roc_auc_score(y_test, y_test_pred))"
   ]
  },
  {
   "cell_type": "code",
   "execution_count": null,
   "metadata": {
    "id": "sw-C6OUCLRMI"
   },
   "outputs": [],
   "source": [
    "# confusion matrix\n",
    "cm=metrics.confusion_matrix(y_test, y_test_pred)\n",
    "cm"
   ]
  },
  {
   "cell_type": "code",
   "execution_count": null,
   "metadata": {
    "id": "jVWlRzfY0VT0"
   },
   "outputs": [],
   "source": [
    "print(classification_report(y_test,y_test_pred))"
   ]
  },
  {
   "cell_type": "markdown",
   "metadata": {
    "id": "EyxsAVV5KOkw"
   },
   "source": [
    "Stacking Classifier"
   ]
  },
  {
   "cell_type": "code",
   "execution_count": 194,
   "metadata": {
    "id": "8odlXaQ3J646"
   },
   "outputs": [],
   "source": [
    "from sklearn.ensemble import StackingClassifier\n",
    "from sklearn.pipeline import make_pipeline\n",
    "from sklearn.preprocessing import StandardScaler\n",
    "\n",
    "\n",
    "clf = [('lr',lr),('classifier_rf',classifier_rf),('xgb_cfl',xgb_cfl)]\n",
    "lr1 = LogisticRegression()\n",
    "\n",
    "lr = LogisticRegression()  # defining meta-classifier\n",
    "#clf_stack = StackingClassifier(classifiers =[lr, classifier_rf,xgb_cfl], meta_classifier = lr1, use_probas = True, use_features_in_secondary = True)\n",
    "stack_model = StackingClassifier( estimators = clf,final_estimator = lr)"
   ]
  },
  {
   "cell_type": "code",
   "execution_count": 195,
   "metadata": {
    "id": "hTsdIjurzie9"
   },
   "outputs": [],
   "source": [
    "model_sc=stack_model.fit(x_train_tfidf_all, y_train)"
   ]
  },
  {
   "cell_type": "code",
   "execution_count": 197,
   "metadata": {
    "id": "O3oyfKaFv9QA"
   },
   "outputs": [],
   "source": [
    "y_train_pred = model_sc.predict(x_train_tfidf_all)\n",
    "y_test_pred = model_sc.predict(x_test_tfidf_all)"
   ]
  },
  {
   "cell_type": "code",
   "execution_count": null,
   "metadata": {
    "id": "l8IoImep0IB9"
   },
   "outputs": [],
   "source": []
  },
  {
   "cell_type": "code",
   "execution_count": 198,
   "metadata": {
    "colab": {
     "base_uri": "https://localhost:8080/",
     "height": 35
    },
    "id": "hqRMBajx0BDv",
    "outputId": "0301c505-4f10-456a-deba-e769eaf70dc2"
   },
   "outputs": [
    {
     "data": {
      "application/vnd.google.colaboratory.intrinsic+json": {
       "type": "string"
      },
      "text/plain": [
       "'0.76'"
      ]
     },
     "execution_count": 198,
     "metadata": {},
     "output_type": "execute_result"
    }
   ],
   "source": [
    "\"{:2.2f}\".format(metrics.roc_auc_score(y_test, y_test_pred))"
   ]
  },
  {
   "cell_type": "code",
   "execution_count": null,
   "metadata": {
    "id": "7UmA-ZVT0Ww4"
   },
   "outputs": [],
   "source": []
  },
  {
   "cell_type": "code",
   "execution_count": 199,
   "metadata": {
    "colab": {
     "base_uri": "https://localhost:8080/"
    },
    "id": "BDqKdvlq0Pl5",
    "outputId": "49adf6b8-8e69-4d0b-96cc-a114195e7a61"
   },
   "outputs": [
    {
     "data": {
      "text/plain": [
       "array([[932, 154],\n",
       "       [272, 546]])"
      ]
     },
     "execution_count": 199,
     "metadata": {},
     "output_type": "execute_result"
    }
   ],
   "source": [
    "# confusion matrix\n",
    "cm=metrics.confusion_matrix(y_test, y_test_pred)\n",
    "cm"
   ]
  },
  {
   "cell_type": "code",
   "execution_count": 200,
   "metadata": {
    "colab": {
     "base_uri": "https://localhost:8080/"
    },
    "id": "pkjtz8hC1BBq",
    "outputId": "5d72d618-0591-4d0e-f2dd-0024d60518e8"
   },
   "outputs": [
    {
     "name": "stdout",
     "output_type": "stream",
     "text": [
      "              precision    recall  f1-score   support\n",
      "\n",
      "           0       0.77      0.86      0.81      1086\n",
      "           1       0.78      0.67      0.72       818\n",
      "\n",
      "    accuracy                           0.78      1904\n",
      "   macro avg       0.78      0.76      0.77      1904\n",
      "weighted avg       0.78      0.78      0.77      1904\n",
      "\n"
     ]
    }
   ],
   "source": [
    "print(classification_report(y_test,y_test_pred))"
   ]
  }
 ],
 "metadata": {
  "colab": {
   "collapsed_sections": [],
   "name": "Real_disasters_tweets.ipynb",
   "provenance": []
  },
  "kernelspec": {
   "display_name": "Python 3",
   "language": "python",
   "name": "python3"
  },
  "language_info": {
   "codemirror_mode": {
    "name": "ipython",
    "version": 3
   },
   "file_extension": ".py",
   "mimetype": "text/x-python",
   "name": "python",
   "nbconvert_exporter": "python",
   "pygments_lexer": "ipython3",
   "version": "3.9.0"
  }
 },
 "nbformat": 4,
 "nbformat_minor": 1
}
